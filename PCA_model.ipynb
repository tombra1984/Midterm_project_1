{
 "cells": [
  {
   "cell_type": "code",
   "execution_count": null,
   "id": "72f33b66-dd3f-4be6-bef5-cf1b1cced24b",
   "metadata": {},
   "outputs": [],
   "source": [
    "## In this workbook we wanted to add more features with many columns of data that we will use PCA for \n",
    "## dimensionality reduction in order to see if we can get a model with better results."
   ]
  },
  {
   "cell_type": "code",
   "execution_count": 2,
   "id": "fdf636e6-a744-44f5-8979-ccda242c95e1",
   "metadata": {},
   "outputs": [],
   "source": [
    "import pandas as pd\n",
    "import seaborn as sns\n",
    "import matplotlib.pyplot as plt\n",
    "import requests\n",
    "import scipy.stats as stats\n",
    "import numpy as np\n",
    "\n",
    "import plotly.express as px\n",
    "import plotly.graph_objs as go\n",
    "from sklearn.preprocessing import MinMaxScaler\n",
    "\n",
    "from sklearn.preprocessing import MinMaxScaler, OneHotEncoder, LabelEncoder, StandardScaler\n",
    "from sklearn.cluster import KMeans\n",
    "from sklearn.decomposition import PCA\n",
    "from sklearn.metrics import silhouette_score\n",
    "from sklearn.linear_model import LogisticRegression\n",
    "from sklearn.model_selection import StratifiedKFold\n"
   ]
  },
  {
   "cell_type": "code",
   "execution_count": null,
   "id": "15dacb56-78c5-4ef3-8943-d8394a2bf65f",
   "metadata": {},
   "outputs": [],
   "source": []
  },
  {
   "cell_type": "code",
   "execution_count": 3,
   "id": "6f243a9d-535f-40fe-b41f-1c8bf9e766ad",
   "metadata": {},
   "outputs": [],
   "source": [
    "from sklearn.linear_model import LinearRegression\n",
    "from sklearn.model_selection import train_test_split\n",
    "from sklearn.ensemble import RandomForestRegressor\n",
    "from sklearn.metrics import mean_squared_error, r2_score\n",
    "from sklearn.linear_model import LogisticRegression\n",
    "from sklearn.model_selection import StratifiedKFold\n",
    "from sklearn.model_selection import KFold"
   ]
  },
  {
   "cell_type": "code",
   "execution_count": 4,
   "id": "b02aeab8-9510-43f9-a2b6-d8b58d8e4d80",
   "metadata": {},
   "outputs": [
    {
     "data": {
      "text/html": [
       "<div>\n",
       "<style scoped>\n",
       "    .dataframe tbody tr th:only-of-type {\n",
       "        vertical-align: middle;\n",
       "    }\n",
       "\n",
       "    .dataframe tbody tr th {\n",
       "        vertical-align: top;\n",
       "    }\n",
       "\n",
       "    .dataframe thead th {\n",
       "        text-align: right;\n",
       "    }\n",
       "</style>\n",
       "<table border=\"1\" class=\"dataframe\">\n",
       "  <thead>\n",
       "    <tr style=\"text-align: right;\">\n",
       "      <th></th>\n",
       "      <th>fl_date</th>\n",
       "      <th>mkt_unique_carrier</th>\n",
       "      <th>branded_code_share</th>\n",
       "      <th>mkt_carrier</th>\n",
       "      <th>mkt_carrier_fl_num</th>\n",
       "      <th>op_unique_carrier</th>\n",
       "      <th>tail_num</th>\n",
       "      <th>op_carrier_fl_num</th>\n",
       "      <th>origin_airport_id</th>\n",
       "      <th>origin</th>\n",
       "      <th>...</th>\n",
       "      <th>first_dep_time</th>\n",
       "      <th>total_add_gtime</th>\n",
       "      <th>longest_add_gtime</th>\n",
       "      <th>no_name</th>\n",
       "      <th>month</th>\n",
       "      <th>dep_hour</th>\n",
       "      <th>arr_hour</th>\n",
       "      <th>taxi_time</th>\n",
       "      <th>origin_state</th>\n",
       "      <th>flight_distance_category</th>\n",
       "    </tr>\n",
       "  </thead>\n",
       "  <tbody>\n",
       "    <tr>\n",
       "      <th>0</th>\n",
       "      <td>2018-01-01</td>\n",
       "      <td>B6</td>\n",
       "      <td>B6</td>\n",
       "      <td>B6</td>\n",
       "      <td>880</td>\n",
       "      <td>B6</td>\n",
       "      <td>N794JB</td>\n",
       "      <td>880</td>\n",
       "      <td>12954</td>\n",
       "      <td>LGB</td>\n",
       "      <td>...</td>\n",
       "      <td>NaN</td>\n",
       "      <td>NaN</td>\n",
       "      <td>NaN</td>\n",
       "      <td>NaN</td>\n",
       "      <td>1</td>\n",
       "      <td>7</td>\n",
       "      <td>8</td>\n",
       "      <td>83.0</td>\n",
       "      <td>CA</td>\n",
       "      <td>SHORT</td>\n",
       "    </tr>\n",
       "    <tr>\n",
       "      <th>1</th>\n",
       "      <td>2018-01-01</td>\n",
       "      <td>B6</td>\n",
       "      <td>B6</td>\n",
       "      <td>B6</td>\n",
       "      <td>885</td>\n",
       "      <td>B6</td>\n",
       "      <td>N337JB</td>\n",
       "      <td>885</td>\n",
       "      <td>12478</td>\n",
       "      <td>JFK</td>\n",
       "      <td>...</td>\n",
       "      <td>NaN</td>\n",
       "      <td>NaN</td>\n",
       "      <td>NaN</td>\n",
       "      <td>NaN</td>\n",
       "      <td>1</td>\n",
       "      <td>7</td>\n",
       "      <td>9</td>\n",
       "      <td>120.0</td>\n",
       "      <td>NY</td>\n",
       "      <td>SHORT</td>\n",
       "    </tr>\n",
       "    <tr>\n",
       "      <th>2</th>\n",
       "      <td>2018-01-01</td>\n",
       "      <td>B6</td>\n",
       "      <td>B6</td>\n",
       "      <td>B6</td>\n",
       "      <td>886</td>\n",
       "      <td>B6</td>\n",
       "      <td>N337JB</td>\n",
       "      <td>886</td>\n",
       "      <td>14492</td>\n",
       "      <td>RDU</td>\n",
       "      <td>...</td>\n",
       "      <td>NaN</td>\n",
       "      <td>NaN</td>\n",
       "      <td>NaN</td>\n",
       "      <td>NaN</td>\n",
       "      <td>1</td>\n",
       "      <td>10</td>\n",
       "      <td>11</td>\n",
       "      <td>102.0</td>\n",
       "      <td>NC</td>\n",
       "      <td>SHORT</td>\n",
       "    </tr>\n",
       "    <tr>\n",
       "      <th>3</th>\n",
       "      <td>2018-01-01</td>\n",
       "      <td>B6</td>\n",
       "      <td>B6</td>\n",
       "      <td>B6</td>\n",
       "      <td>889</td>\n",
       "      <td>B6</td>\n",
       "      <td>N318JB</td>\n",
       "      <td>889</td>\n",
       "      <td>11278</td>\n",
       "      <td>DCA</td>\n",
       "      <td>...</td>\n",
       "      <td>NaN</td>\n",
       "      <td>NaN</td>\n",
       "      <td>NaN</td>\n",
       "      <td>NaN</td>\n",
       "      <td>1</td>\n",
       "      <td>18</td>\n",
       "      <td>19</td>\n",
       "      <td>162.0</td>\n",
       "      <td>DC</td>\n",
       "      <td>SHORT</td>\n",
       "    </tr>\n",
       "    <tr>\n",
       "      <th>4</th>\n",
       "      <td>2018-01-01</td>\n",
       "      <td>B6</td>\n",
       "      <td>B6</td>\n",
       "      <td>B6</td>\n",
       "      <td>891</td>\n",
       "      <td>B6</td>\n",
       "      <td>N348JB</td>\n",
       "      <td>891</td>\n",
       "      <td>10721</td>\n",
       "      <td>BOS</td>\n",
       "      <td>...</td>\n",
       "      <td>NaN</td>\n",
       "      <td>NaN</td>\n",
       "      <td>NaN</td>\n",
       "      <td>NaN</td>\n",
       "      <td>1</td>\n",
       "      <td>6</td>\n",
       "      <td>9</td>\n",
       "      <td>317.0</td>\n",
       "      <td>MA</td>\n",
       "      <td>MEDIUM</td>\n",
       "    </tr>\n",
       "  </tbody>\n",
       "</table>\n",
       "<p>5 rows × 48 columns</p>\n",
       "</div>"
      ],
      "text/plain": [
       "      fl_date mkt_unique_carrier branded_code_share mkt_carrier  \\\n",
       "0  2018-01-01                 B6                 B6          B6   \n",
       "1  2018-01-01                 B6                 B6          B6   \n",
       "2  2018-01-01                 B6                 B6          B6   \n",
       "3  2018-01-01                 B6                 B6          B6   \n",
       "4  2018-01-01                 B6                 B6          B6   \n",
       "\n",
       "   mkt_carrier_fl_num op_unique_carrier tail_num  op_carrier_fl_num  \\\n",
       "0                 880                B6   N794JB                880   \n",
       "1                 885                B6   N337JB                885   \n",
       "2                 886                B6   N337JB                886   \n",
       "3                 889                B6   N318JB                889   \n",
       "4                 891                B6   N348JB                891   \n",
       "\n",
       "   origin_airport_id origin  ... first_dep_time  total_add_gtime  \\\n",
       "0              12954    LGB  ...            NaN              NaN   \n",
       "1              12478    JFK  ...            NaN              NaN   \n",
       "2              14492    RDU  ...            NaN              NaN   \n",
       "3              11278    DCA  ...            NaN              NaN   \n",
       "4              10721    BOS  ...            NaN              NaN   \n",
       "\n",
       "  longest_add_gtime no_name  month  dep_hour  arr_hour  taxi_time  \\\n",
       "0               NaN     NaN      1         7         8       83.0   \n",
       "1               NaN     NaN      1         7         9      120.0   \n",
       "2               NaN     NaN      1        10        11      102.0   \n",
       "3               NaN     NaN      1        18        19      162.0   \n",
       "4               NaN     NaN      1         6         9      317.0   \n",
       "\n",
       "   origin_state  flight_distance_category  \n",
       "0            CA                     SHORT  \n",
       "1            NY                     SHORT  \n",
       "2            NC                     SHORT  \n",
       "3            DC                     SHORT  \n",
       "4            MA                    MEDIUM  \n",
       "\n",
       "[5 rows x 48 columns]"
      ]
     },
     "execution_count": 4,
     "metadata": {},
     "output_type": "execute_result"
    }
   ],
   "source": [
    "# Imported this dataframe that was created in our EDA notebook\n",
    "flights_df = pd.read_csv(\"/Users/ckz/Desktop/DATA_SCIENCE_BOOTCAMP/Midterm-project/flights_df.csv\")\n",
    "\n",
    "# print the first few rows of the DataFrame\n",
    "flights_df.head()"
   ]
  },
  {
   "cell_type": "code",
   "execution_count": 75,
   "id": "bd711dcf-ff15-4ebb-b51a-b02c13e6d137",
   "metadata": {},
   "outputs": [
    {
     "data": {
      "text/plain": [
       "Index(['fl_date', 'mkt_unique_carrier', 'mkt_carrier', 'mkt_carrier_fl_num',\n",
       "       'op_unique_carrier', 'tail_num', 'op_carrier_fl_num',\n",
       "       'origin_airport_id', 'origin', 'origin_city_name', 'dest_airport_id',\n",
       "       'dest', 'dest_city_name', 'crs_dep_time', 'dep_time', 'dep_delay',\n",
       "       'taxi_out', 'wheels_off', 'wheels_on', 'taxi_in', 'crs_arr_time',\n",
       "       'arr_time', 'arr_delay', 'cancelled', 'diverted', 'dup',\n",
       "       'crs_elapsed_time', 'actual_elapsed_time', 'air_time', 'flights',\n",
       "       'distance', 'month', 'dep_hour', 'arr_hour', 'taxi_time',\n",
       "       'origin_state', 'flight_distance_category', 'avg_monthly_arr_delay',\n",
       "       'avg_taxi_times_arr', 'traffic', 'holiday'],\n",
       "      dtype='object')"
      ]
     },
     "execution_count": 75,
     "metadata": {},
     "output_type": "execute_result"
    }
   ],
   "source": [
    "flights_df.columns"
   ]
  },
  {
   "cell_type": "code",
   "execution_count": 6,
   "id": "f8ab3738-e9aa-4794-b5ee-3c7e95a9bf74",
   "metadata": {},
   "outputs": [],
   "source": [
    "flights_df['avg_monthly_arr_delay'] = flights_df.groupby('month')['arr_delay'].transform('mean')"
   ]
  },
  {
   "cell_type": "code",
   "execution_count": 7,
   "id": "e8b3aa6f-1811-4ecb-a847-55dcb19dbc27",
   "metadata": {},
   "outputs": [],
   "source": [
    "# This feature creates the avg taxi times for the arrival hour \n",
    "flights_df['avg_taxi_times_arr'] = flights_df.groupby('arr_hour')['taxi_time'].transform('mean')"
   ]
  },
  {
   "cell_type": "code",
   "execution_count": 8,
   "id": "409bf0b0-c7b8-428a-b405-52ec0080d888",
   "metadata": {},
   "outputs": [],
   "source": [
    "# Group the flights data by origin airport and count the number of flights for each airport\n",
    "airport_counts = flights_df.groupby('origin')['flights'].transform('count')\n",
    "\n",
    "# Determine the thresholds for each category based on the quartiles\n",
    "thresholds = [0, airport_counts.quantile(0.25), airport_counts.quantile(0.5), airport_counts.quantile(0.75), np.inf]\n",
    "\n",
    "# Define the categories\n",
    "categories = ['Not Busy', 'Moderate', 'Busy', 'Very Busy']\n",
    "\n",
    "# Assign the traffic category based on the number of flights from each airport\n",
    "flights_df['traffic'] = pd.cut(airport_counts, bins=thresholds, labels=categories, right=False)"
   ]
  },
  {
   "cell_type": "code",
   "execution_count": 9,
   "id": "bce42335-5512-4069-9c04-97e3544bda55",
   "metadata": {},
   "outputs": [],
   "source": [
    "from pandas.tseries.holiday import USFederalHolidayCalendar as holiday_calendar\n",
    "from datetime import datetime"
   ]
  },
  {
   "cell_type": "code",
   "execution_count": 10,
   "id": "9bd6c5a8-5ada-46e6-8bc2-f3a9c922e9ad",
   "metadata": {},
   "outputs": [],
   "source": [
    "flights_df['fl_date'] = flights_df['fl_date'].apply(lambda x: datetime.strptime(x, '%Y-%m-%d'))"
   ]
  },
  {
   "cell_type": "code",
   "execution_count": 43,
   "id": "243872ee-b226-462d-ab11-2b7686b5c38d",
   "metadata": {},
   "outputs": [
    {
     "data": {
      "image/png": "[encoded data removed]",
      "text/plain": [
       "<Figure size 640x480 with 1 Axes>"
      ]
     },
     "metadata": {},
     "output_type": "display_data"
    }
   ],
   "source": [
    "import matplotlib.pyplot as plt\n",
    "\n",
    "# Plot histogram of 'arr_delay' with custom x-axis limits\n",
    "plt.hist(flights_df['arr_delay'], bins=30)\n",
    "plt.xlabel('Arrival Delay')\n",
    "plt.ylabel('Frequency')\n",
    "plt.title('Distribution of Arrival Delay')\n",
    "plt.xlim(-100, 500)  # Set the x-axis limits\n",
    "plt.show()"
   ]
  },
  {
   "cell_type": "code",
   "execution_count": 52,
   "id": "0f55a18c-a0a8-434d-b4fe-42756dc57484",
   "metadata": {},
   "outputs": [
    {
     "data": {
      "text/plain": [
       "9.369769     140155\n",
       "9.147818     138068\n",
       "2.939169     135062\n",
       "10.231136    133095\n",
       "2.848255     132802\n",
       "6.487571     132791\n",
       "5.256223     131089\n",
       "2.631527     128856\n",
       "1.728206     128645\n",
       "4.198811     126311\n",
       "3.517748     122942\n",
       "7.158300     109229\n",
       "Name: avg_monthly_arr_delay, dtype: int64"
      ]
     },
     "execution_count": 52,
     "metadata": {},
     "output_type": "execute_result"
    }
   ],
   "source": [
    "flights_df['avg_monthly_arr_delay'].value_counts()\n",
    "                                        "
   ]
  },
  {
   "cell_type": "code",
   "execution_count": 11,
   "id": "aea71157-5c54-489a-b100-ff773ba0c81f",
   "metadata": {},
   "outputs": [
    {
     "data": {
      "text/html": [
       "<div>\n",
       "<style scoped>\n",
       "    .dataframe tbody tr th:only-of-type {\n",
       "        vertical-align: middle;\n",
       "    }\n",
       "\n",
       "    .dataframe tbody tr th {\n",
       "        vertical-align: top;\n",
       "    }\n",
       "\n",
       "    .dataframe thead th {\n",
       "        text-align: right;\n",
       "    }\n",
       "</style>\n",
       "<table border=\"1\" class=\"dataframe\">\n",
       "  <thead>\n",
       "    <tr style=\"text-align: right;\">\n",
       "      <th></th>\n",
       "      <th>fl_date</th>\n",
       "      <th>mkt_unique_carrier</th>\n",
       "      <th>branded_code_share</th>\n",
       "      <th>mkt_carrier</th>\n",
       "      <th>mkt_carrier_fl_num</th>\n",
       "      <th>op_unique_carrier</th>\n",
       "      <th>tail_num</th>\n",
       "      <th>op_carrier_fl_num</th>\n",
       "      <th>origin_airport_id</th>\n",
       "      <th>origin</th>\n",
       "      <th>...</th>\n",
       "      <th>month</th>\n",
       "      <th>dep_hour</th>\n",
       "      <th>arr_hour</th>\n",
       "      <th>taxi_time</th>\n",
       "      <th>origin_state</th>\n",
       "      <th>flight_distance_category</th>\n",
       "      <th>avg_monthly_arr_delay</th>\n",
       "      <th>avg_taxi_times_arr</th>\n",
       "      <th>traffic</th>\n",
       "      <th>holiday</th>\n",
       "    </tr>\n",
       "  </thead>\n",
       "  <tbody>\n",
       "    <tr>\n",
       "      <th>1559040</th>\n",
       "      <td>2019-07-31</td>\n",
       "      <td>DL</td>\n",
       "      <td>DL</td>\n",
       "      <td>DL</td>\n",
       "      <td>2899</td>\n",
       "      <td>DL</td>\n",
       "      <td>N932AT</td>\n",
       "      <td>2899</td>\n",
       "      <td>10397</td>\n",
       "      <td>ATL</td>\n",
       "      <td>...</td>\n",
       "      <td>7</td>\n",
       "      <td>15</td>\n",
       "      <td>17</td>\n",
       "      <td>114.0</td>\n",
       "      <td>GA</td>\n",
       "      <td>SHORT</td>\n",
       "      <td>9.147818</td>\n",
       "      <td>177.955554</td>\n",
       "      <td>Very Busy</td>\n",
       "      <td>0</td>\n",
       "    </tr>\n",
       "    <tr>\n",
       "      <th>1559041</th>\n",
       "      <td>2019-07-31</td>\n",
       "      <td>DL</td>\n",
       "      <td>DL</td>\n",
       "      <td>DL</td>\n",
       "      <td>2899</td>\n",
       "      <td>DL</td>\n",
       "      <td>N932AT</td>\n",
       "      <td>2899</td>\n",
       "      <td>11057</td>\n",
       "      <td>CLT</td>\n",
       "      <td>...</td>\n",
       "      <td>7</td>\n",
       "      <td>17</td>\n",
       "      <td>18</td>\n",
       "      <td>83.0</td>\n",
       "      <td>NC</td>\n",
       "      <td>SHORT</td>\n",
       "      <td>9.147818</td>\n",
       "      <td>170.038468</td>\n",
       "      <td>Very Busy</td>\n",
       "      <td>0</td>\n",
       "    </tr>\n",
       "    <tr>\n",
       "      <th>1559042</th>\n",
       "      <td>2019-07-31</td>\n",
       "      <td>DL</td>\n",
       "      <td>DL</td>\n",
       "      <td>DL</td>\n",
       "      <td>2900</td>\n",
       "      <td>DL</td>\n",
       "      <td>N301DQ</td>\n",
       "      <td>2900</td>\n",
       "      <td>10397</td>\n",
       "      <td>ATL</td>\n",
       "      <td>...</td>\n",
       "      <td>7</td>\n",
       "      <td>12</td>\n",
       "      <td>14</td>\n",
       "      <td>175.0</td>\n",
       "      <td>GA</td>\n",
       "      <td>MEDIUM</td>\n",
       "      <td>9.147818</td>\n",
       "      <td>178.305499</td>\n",
       "      <td>Very Busy</td>\n",
       "      <td>0</td>\n",
       "    </tr>\n",
       "    <tr>\n",
       "      <th>1559043</th>\n",
       "      <td>2019-07-31</td>\n",
       "      <td>DL</td>\n",
       "      <td>DL</td>\n",
       "      <td>DL</td>\n",
       "      <td>2900</td>\n",
       "      <td>DL</td>\n",
       "      <td>N301DQ</td>\n",
       "      <td>2900</td>\n",
       "      <td>11624</td>\n",
       "      <td>EYW</td>\n",
       "      <td>...</td>\n",
       "      <td>7</td>\n",
       "      <td>15</td>\n",
       "      <td>17</td>\n",
       "      <td>126.0</td>\n",
       "      <td>FL</td>\n",
       "      <td>MEDIUM</td>\n",
       "      <td>9.147818</td>\n",
       "      <td>177.955554</td>\n",
       "      <td>Not Busy</td>\n",
       "      <td>0</td>\n",
       "    </tr>\n",
       "    <tr>\n",
       "      <th>1559044</th>\n",
       "      <td>2019-07-31</td>\n",
       "      <td>DL</td>\n",
       "      <td>DL</td>\n",
       "      <td>DL</td>\n",
       "      <td>2901</td>\n",
       "      <td>DL</td>\n",
       "      <td>N397DA</td>\n",
       "      <td>2901</td>\n",
       "      <td>11292</td>\n",
       "      <td>DEN</td>\n",
       "      <td>...</td>\n",
       "      <td>7</td>\n",
       "      <td>7</td>\n",
       "      <td>9</td>\n",
       "      <td>159.0</td>\n",
       "      <td>CO</td>\n",
       "      <td>SHORT</td>\n",
       "      <td>9.147818</td>\n",
       "      <td>146.300733</td>\n",
       "      <td>Very Busy</td>\n",
       "      <td>0</td>\n",
       "    </tr>\n",
       "  </tbody>\n",
       "</table>\n",
       "<p>5 rows × 52 columns</p>\n",
       "</div>"
      ],
      "text/plain": [
       "           fl_date mkt_unique_carrier branded_code_share mkt_carrier  \\\n",
       "1559040 2019-07-31                 DL                 DL          DL   \n",
       "1559041 2019-07-31                 DL                 DL          DL   \n",
       "1559042 2019-07-31                 DL                 DL          DL   \n",
       "1559043 2019-07-31                 DL                 DL          DL   \n",
       "1559044 2019-07-31                 DL                 DL          DL   \n",
       "\n",
       "         mkt_carrier_fl_num op_unique_carrier tail_num  op_carrier_fl_num  \\\n",
       "1559040                2899                DL   N932AT               2899   \n",
       "1559041                2899                DL   N932AT               2899   \n",
       "1559042                2900                DL   N301DQ               2900   \n",
       "1559043                2900                DL   N301DQ               2900   \n",
       "1559044                2901                DL   N397DA               2901   \n",
       "\n",
       "         origin_airport_id origin  ... month  dep_hour arr_hour taxi_time  \\\n",
       "1559040              10397    ATL  ...     7        15       17     114.0   \n",
       "1559041              11057    CLT  ...     7        17       18      83.0   \n",
       "1559042              10397    ATL  ...     7        12       14     175.0   \n",
       "1559043              11624    EYW  ...     7        15       17     126.0   \n",
       "1559044              11292    DEN  ...     7         7        9     159.0   \n",
       "\n",
       "         origin_state  flight_distance_category  avg_monthly_arr_delay  \\\n",
       "1559040            GA                     SHORT               9.147818   \n",
       "1559041            NC                     SHORT               9.147818   \n",
       "1559042            GA                    MEDIUM               9.147818   \n",
       "1559043            FL                    MEDIUM               9.147818   \n",
       "1559044            CO                     SHORT               9.147818   \n",
       "\n",
       "         avg_taxi_times_arr    traffic  holiday  \n",
       "1559040          177.955554  Very Busy        0  \n",
       "1559041          170.038468  Very Busy        0  \n",
       "1559042          178.305499  Very Busy        0  \n",
       "1559043          177.955554   Not Busy        0  \n",
       "1559044          146.300733  Very Busy        0  \n",
       "\n",
       "[5 rows x 52 columns]"
      ]
     },
     "execution_count": 11,
     "metadata": {},
     "output_type": "execute_result"
    }
   ],
   "source": [
    "# holiday_cal\n",
    "cal = holiday_calendar()\n",
    "dr = flights_df['fl_date'] \n",
    "holidays = cal.holidays(start=dr.min(), end=dr.max())\n",
    "flights_df['holiday'] = flights_df['fl_date'].dt.date.astype('datetime64').isin(holidays).astype(int)\n",
    "flights_df.tail(5)"
   ]
  },
  {
   "cell_type": "code",
   "execution_count": 11,
   "id": "aeef929e-3c82-4d6f-a505-57cde54c7b6b",
   "metadata": {},
   "outputs": [],
   "source": [
    "flights_df.to_csv('/Users/ckz/Desktop/DATA_SCIENCE_BOOTCAMP/Midterm-project/flights_df2.csv', index=False)"
   ]
  },
  {
   "cell_type": "code",
   "execution_count": 12,
   "id": "2b41a091-e934-4455-b5c2-da2daae92e0f",
   "metadata": {},
   "outputs": [
    {
     "data": {
      "text/plain": [
       "Index(['fl_date', 'mkt_unique_carrier', 'branded_code_share', 'mkt_carrier',\n",
       "       'mkt_carrier_fl_num', 'op_unique_carrier', 'tail_num',\n",
       "       'op_carrier_fl_num', 'origin_airport_id', 'origin', 'origin_city_name',\n",
       "       'dest_airport_id', 'dest', 'dest_city_name', 'crs_dep_time', 'dep_time',\n",
       "       'dep_delay', 'taxi_out', 'wheels_off', 'wheels_on', 'taxi_in',\n",
       "       'crs_arr_time', 'arr_time', 'arr_delay', 'cancelled',\n",
       "       'cancellation_code', 'diverted', 'dup', 'crs_elapsed_time',\n",
       "       'actual_elapsed_time', 'air_time', 'flights', 'distance',\n",
       "       'carrier_delay', 'weather_delay', 'nas_delay', 'security_delay',\n",
       "       'late_aircraft_delay', 'first_dep_time', 'total_add_gtime',\n",
       "       'longest_add_gtime', 'no_name', 'month', 'dep_hour', 'arr_hour',\n",
       "       'taxi_time', 'origin_state', 'flight_distance_category',\n",
       "       'avg_monthly_arr_delay', 'avg_taxi_times_arr', 'traffic', 'holiday'],\n",
       "      dtype='object')"
      ]
     },
     "execution_count": 12,
     "metadata": {},
     "output_type": "execute_result"
    }
   ],
   "source": [
    "flights_df.columns"
   ]
  },
  {
   "cell_type": "code",
   "execution_count": 53,
   "id": "6d2def6b-ecd4-462c-8b49-88c6e97e36e7",
   "metadata": {},
   "outputs": [],
   "source": [
    "flights_df = flights_df[['fl_date', 'mkt_unique_carrier', 'mkt_carrier',\n",
    "       'mkt_carrier_fl_num', 'op_unique_carrier', 'tail_num',\n",
    "       'op_carrier_fl_num', 'origin_airport_id', 'origin', 'origin_city_name',\n",
    "       'dest_airport_id', 'dest', 'dest_city_name', 'crs_dep_time', 'dep_time',\n",
    "       'dep_delay', 'taxi_out', 'wheels_off', 'wheels_on', 'taxi_in',\n",
    "       'crs_arr_time', 'arr_time', 'arr_delay', 'cancelled', 'diverted', 'dup', 'crs_elapsed_time',\n",
    "       'actual_elapsed_time', 'air_time', 'flights', 'distance',\n",
    "        'month', 'dep_hour', 'arr_hour',\n",
    "       'taxi_time', 'origin_state', 'flight_distance_category',\n",
    "       'avg_monthly_arr_delay', 'avg_taxi_times_arr', 'traffic', 'holiday']]\n"
   ]
  },
  {
   "cell_type": "code",
   "execution_count": 54,
   "id": "a246dea8-cdfe-4b21-86a0-67866a900174",
   "metadata": {},
   "outputs": [
    {
     "data": {
      "text/plain": [
       "fl_date                     0\n",
       "mkt_unique_carrier          0\n",
       "mkt_carrier                 0\n",
       "mkt_carrier_fl_num          0\n",
       "op_unique_carrier           0\n",
       "tail_num                    0\n",
       "op_carrier_fl_num           0\n",
       "origin_airport_id           0\n",
       "origin                      0\n",
       "origin_city_name            0\n",
       "dest_airport_id             0\n",
       "dest                        0\n",
       "dest_city_name              0\n",
       "crs_dep_time                0\n",
       "dep_time                    0\n",
       "dep_delay                   0\n",
       "taxi_out                    0\n",
       "wheels_off                  0\n",
       "wheels_on                   0\n",
       "taxi_in                     0\n",
       "crs_arr_time                0\n",
       "arr_time                    0\n",
       "arr_delay                   0\n",
       "cancelled                   0\n",
       "diverted                    0\n",
       "dup                         0\n",
       "crs_elapsed_time            0\n",
       "actual_elapsed_time         0\n",
       "air_time                    0\n",
       "flights                     0\n",
       "distance                    0\n",
       "month                       0\n",
       "dep_hour                    0\n",
       "arr_hour                    0\n",
       "taxi_time                   0\n",
       "origin_state                0\n",
       "flight_distance_category    0\n",
       "avg_monthly_arr_delay       0\n",
       "avg_taxi_times_arr          0\n",
       "traffic                     0\n",
       "holiday                     0\n",
       "dtype: int64"
      ]
     },
     "execution_count": 54,
     "metadata": {},
     "output_type": "execute_result"
    }
   ],
   "source": [
    "flights_df.isnull().sum()"
   ]
  },
  {
   "cell_type": "code",
   "execution_count": 76,
   "id": "3688c7b2-bea8-406f-9ab6-17f7be2ef575",
   "metadata": {},
   "outputs": [],
   "source": [
    "# # Shuffle the data in the DataFrame and create a sample with half the size\n",
    "sample_size = len(flights_df) // 10\n",
    "\n",
    "flights_df_sample = flights_df.sample(n=sample_size, random_state=42)\n",
    "\n",
    "## Reset the index of the shuffled sample\n",
    "\n",
    "flights_df_sample.reset_index(drop=True, inplace=True)"
   ]
  },
  {
   "cell_type": "code",
   "execution_count": 77,
   "id": "e241a1d4-f2b5-4932-b96f-ad5b433f0527",
   "metadata": {},
   "outputs": [
    {
     "data": {
      "text/plain": [
       "array(['N213NN', 'N939AT', 'N85320', ..., 'N68061', 'N1602', 'N79011'],\n",
       "      dtype=object)"
      ]
     },
     "execution_count": 77,
     "metadata": {},
     "output_type": "execute_result"
    }
   ],
   "source": [
    "flights_df_sample['tail_num'].unique()"
   ]
  },
  {
   "cell_type": "code",
   "execution_count": 78,
   "id": "0953a079-97a9-4e30-b757-84c956709100",
   "metadata": {},
   "outputs": [],
   "source": [
    "flights_df_sample['tail_info'] = flights_df_sample['tail_num'].apply(lambda x: ''.join([char for char in str(x) if char.isalpha()]) + str(len(str(x.replace('-', '')))) if str(x).replace('-', '').isalnum() else '')\n",
    "\n"
   ]
  },
  {
   "cell_type": "code",
   "execution_count": 79,
   "id": "56f57ee3-2117-4f40-87f8-f2e7ffcb9159",
   "metadata": {},
   "outputs": [
    {
     "data": {
      "text/plain": [
       "array(['NNN6', 'NAT6', 'N6', 'NCA6', 'NSY6', 'NWN6', 'ND6', 'NDQ6',\n",
       "       'NDL6', 'NSW6', 'NH6', 'NB6', 'NQ6', 'NUW6', 'NNW6', 'NLR6',\n",
       "       'NDN6', 'NJB6', 'NA6', 'NAA6', 'NVA6', 'NV5', 'NSA6', 'NJQ6',\n",
       "       'NUA6', 'NUS6', 'NPP6', 'NAW6', 'NSK6', 'NAE6', 'NW6', 'NAK6',\n",
       "       'NAN6', 'NPQ6', 'NNK6', 'NHQ6', 'NFR6', 'NFJ6', 'NCZ6', 'NJS6',\n",
       "       'NML6', 'NAU6', 'NTW6', 'NXJ6', 'NNB6', 'NLV6', 'NKS6', 'NYX6',\n",
       "       'NRW6', 'NAY6', 'NEA6', 'NQX6', 'NGJ6', 'NF6', 'NZW6', 'NPM6',\n",
       "       'NNV6', 'NDA6', 'NHA6', 'NPS6', 'NBG6', 'NAS6', 'NEV6', 'NFF6',\n",
       "       'NK6', 'NC6', 'NNS6', 'NUY6', 'NNG6', 'NPN6', 'NJE6', 'NJH6',\n",
       "       'NP6', 'NJ6', 'NZ6', 'NM6', 'NBR6', 'NHK6', 'NT6', 'NEG6', 'NE6',\n",
       "       'NX6', 'NDX6', 'NPB6', 'NR6', 'NJT6', 'N5', 'NJL6', 'NJW6', 'NV6',\n",
       "       'NGB6', 'NDW6', 'NJ5', 'NPR6', 'NRP6', 'NDU6', 'NRJ6', 'NS6',\n",
       "       'NU6', 'NAL6', 'NPD6', 'NAM6', 'NDE6', 'NMJ6', 'NBC6', 'NMD6',\n",
       "       'NDZ6', 'NPH6', 'NRG6', 'NN6', 'NG6', 'NL6', 'NPC6', 'NCB6',\n",
       "       'NMS6', 'NNX6', 'NRR6', 'NAR6', 'NGS6', 'NLL6', 'NMQ6', 'GA5',\n",
       "       'NMX6', 'NPJ6', 'NRS6', 'NVJ6', 'NPT6', 'NCT6', 'NLM6', 'NAG6',\n",
       "       'NZM6', 'NHC6', 'NRA6', 'NRH6', 'NMK6', 'NJC6', 'NPX6', 'NJN6',\n",
       "       'NEC6', 'NDC6', 'NNY6', 'NLT6', 'NPV6', 'NBP6', 'NPK6', 'NWR6',\n",
       "       'NY6', 'NEN6', 'NHH6', 'NMH6', 'NDH6', 'NQC6', 'NKC6', 'NND6',\n",
       "       'NAB6', 'NPA6', 'NNC6', 'NZX6', 'NJA6', 'NPW6', 'NRM6', 'NRC6',\n",
       "       'NDV6', 'NXF6', 'NEH6', 'NPE6', 'NPG6', 'NP5', 'NUX6', 'NAJ6',\n",
       "       'NRF6', 'NPU6', 'NMB6', 'NRE6', 'NRT6', 'NDP6', 'NNA6', 'NX5',\n",
       "       'NPL6', 'NRN6', 'NRB6', 'NPF6', 'NFC6', 'NRL6', 'NEE6', 'NUU6',\n",
       "       'NRK6', 'NRU6', 'NRD6', 'NDK6', 'NSB6', 'Nqx6', 'NAC6', 'NRV6',\n",
       "       'NRY6'], dtype=object)"
      ]
     },
     "execution_count": 79,
     "metadata": {},
     "output_type": "execute_result"
    }
   ],
   "source": [
    "flights_df_sample['tail_info'].unique()"
   ]
  },
  {
   "cell_type": "code",
   "execution_count": 80,
   "id": "2693d372-1f2d-4949-b9cd-6e04f902bb2c",
   "metadata": {},
   "outputs": [
    {
     "name": "stdout",
     "output_type": "stream",
     "text": [
      "Unique count of tail_info: 195\n"
     ]
    }
   ],
   "source": [
    "unique_count = flights_df_sample['tail_info'].nunique()\n",
    "print(\"Unique count of tail_info:\", unique_count)"
   ]
  },
  {
   "cell_type": "code",
   "execution_count": 81,
   "id": "2088e77d-5a08-4032-bdb0-5051f5694210",
   "metadata": {},
   "outputs": [],
   "source": [
    "flights_dfs = flights_df_sample.copy()"
   ]
  },
  {
   "cell_type": "code",
   "execution_count": 83,
   "id": "acce77b9-2745-47ba-9f0f-09c959963846",
   "metadata": {},
   "outputs": [],
   "source": [
    "flights_df_sample = flights_df_sample[['fl_date','mkt_unique_carrier','tail_info',\n",
    "        'taxi_out', 'taxi_in',\n",
    "        'cancelled', 'diverted',\n",
    "        'air_time', 'flights', 'distance',\n",
    "        'month', 'dep_hour', 'arr_hour',\n",
    "       'origin_state', 'flight_distance_category',\n",
    "       'avg_monthly_arr_delay', 'avg_taxi_times_arr', 'traffic', 'holiday']]"
   ]
  },
  {
   "cell_type": "code",
   "execution_count": 84,
   "id": "ce56d8be-2ee4-4a33-84a8-4ae10d39e098",
   "metadata": {},
   "outputs": [],
   "source": [
    "numerical_columns = ['taxi_out','taxi_in','air_time','flights','distance','avg_taxi_times_arr']\n",
    "                    \n",
    "categorical_columns = ['mkt_unique_carrier','diverted','month','dep_hour','arr_hour','origin_state','flight_distance_category','traffic','holiday','tail_info']"
   ]
  },
  {
   "cell_type": "code",
   "execution_count": 85,
   "id": "8a8a9953-ecc7-42cd-9f1e-258811985e7c",
   "metadata": {},
   "outputs": [],
   "source": [
    "df_encoded = pd.get_dummies(data=flights_df_sample, columns=['mkt_unique_carrier',\n",
    "        'cancelled', 'diverted','tail_info',  \n",
    "        'month', 'dep_hour', 'arr_hour',\n",
    "        'origin_state', 'flight_distance_category',\n",
    "        'traffic', 'holiday'], drop_first=False)\n"
   ]
  },
  {
   "cell_type": "code",
   "execution_count": 86,
   "id": "6f57c1b8-b33b-4166-9392-bbdfbe77bbf8",
   "metadata": {},
   "outputs": [
    {
     "data": {
      "text/plain": [
       "(155904, 338)"
      ]
     },
     "execution_count": 86,
     "metadata": {},
     "output_type": "execute_result"
    }
   ],
   "source": [
    "df_encoded.shape"
   ]
  },
  {
   "cell_type": "code",
   "execution_count": 87,
   "id": "a152af96-db5e-4657-8548-131802c8f06c",
   "metadata": {},
   "outputs": [],
   "source": [
    "df_encoded2 = pd.get_dummies(data=flights_df_sample, columns=['mkt_unique_carrier',\n",
    "        'cancelled', 'diverted',  \n",
    "        'month', 'dep_hour', 'arr_hour',\n",
    "        'flight_distance_category',\n",
    "        'traffic', 'holiday'], drop_first=False)"
   ]
  },
  {
   "cell_type": "code",
   "execution_count": 107,
   "id": "12cc81e6-a755-4173-9b04-c2c722e5a92f",
   "metadata": {},
   "outputs": [
    {
     "data": {
      "text/plain": [
       "Index(['taxi_out', 'taxi_in', 'air_time', 'flights', 'distance',\n",
       "       'origin_state', 'avg_monthly_arr_delay', 'avg_taxi_times_arr',\n",
       "       'mkt_unique_carrier_AA', 'mkt_unique_carrier_AS',\n",
       "       'mkt_unique_carrier_B6', 'mkt_unique_carrier_DL',\n",
       "       'mkt_unique_carrier_F9', 'mkt_unique_carrier_G4',\n",
       "       'mkt_unique_carrier_HA', 'mkt_unique_carrier_NK',\n",
       "       'mkt_unique_carrier_UA', 'mkt_unique_carrier_VX',\n",
       "       'mkt_unique_carrier_WN', 'cancelled_0.0', 'diverted_0.0', 'month_1',\n",
       "       'month_2', 'month_3', 'month_4', 'month_5', 'month_6', 'month_7',\n",
       "       'month_8', 'month_9', 'month_10', 'month_11', 'month_12', 'dep_hour_0',\n",
       "       'dep_hour_1', 'dep_hour_2', 'dep_hour_3', 'dep_hour_4', 'dep_hour_5',\n",
       "       'dep_hour_6', 'dep_hour_7', 'dep_hour_8', 'dep_hour_9', 'dep_hour_10',\n",
       "       'dep_hour_11', 'dep_hour_12', 'dep_hour_13', 'dep_hour_14',\n",
       "       'dep_hour_15', 'dep_hour_16', 'dep_hour_17', 'dep_hour_18',\n",
       "       'dep_hour_19', 'dep_hour_20', 'dep_hour_21', 'dep_hour_22',\n",
       "       'dep_hour_23', 'arr_hour_0', 'arr_hour_1', 'arr_hour_2', 'arr_hour_3',\n",
       "       'arr_hour_4', 'arr_hour_5', 'arr_hour_6', 'arr_hour_7', 'arr_hour_8',\n",
       "       'arr_hour_9', 'arr_hour_10', 'arr_hour_11', 'arr_hour_12',\n",
       "       'arr_hour_13', 'arr_hour_14', 'arr_hour_15', 'arr_hour_16',\n",
       "       'arr_hour_17', 'arr_hour_18', 'arr_hour_19', 'arr_hour_20',\n",
       "       'arr_hour_21', 'arr_hour_22', 'arr_hour_23',\n",
       "       'flight_distance_category_LONG', 'flight_distance_category_MEDIUM',\n",
       "       'flight_distance_category_SHORT', 'traffic_Not Busy',\n",
       "       'traffic_Moderate', 'traffic_Busy', 'traffic_Very Busy', 'holiday_0',\n",
       "       'holiday_1'],\n",
       "      dtype='object')"
      ]
     },
     "execution_count": 107,
     "metadata": {},
     "output_type": "execute_result"
    }
   ],
   "source": [
    "df_encoded2.columns"
   ]
  },
  {
   "cell_type": "code",
   "execution_count": 66,
   "id": "1178c9b9-39e8-4a0f-af74-9c83c654d989",
   "metadata": {},
   "outputs": [],
   "source": [
    "# Separate numeric columns and encoded columns\n",
    "\n",
    "encoded_columns = df_encoded.drop(columns=numerical_columns)"
   ]
  },
  {
   "cell_type": "code",
   "execution_count": 67,
   "id": "67623e17-a2a8-4eda-a0f1-516d5e891842",
   "metadata": {},
   "outputs": [],
   "source": [
    "# Scale the numeric columns\n",
    "scaler = StandardScaler()\n",
    "scaled_numeric_data = scaler.fit_transform(df_encoded[numerical_columns])\n",
    "\n",
    "# Create a DataFrame for the scaled numeric data\n",
    "df_scaled_numeric = pd.DataFrame(scaled_numeric_data, columns=numerical_columns)\n",
    "\n",
    "# Rejoin the scaled numeric data with the encoded columns\n",
    "df_scaled_encoded = pd.concat([df_scaled_numeric, encoded_columns], axis=1)"
   ]
  },
  {
   "cell_type": "code",
   "execution_count": 68,
   "id": "3836599d-bdb1-49f6-9b7b-f3c8197c9992",
   "metadata": {},
   "outputs": [],
   "source": [
    "df_X = df_scaled_encoded.copy()"
   ]
  },
  {
   "cell_type": "code",
   "execution_count": 69,
   "id": "4e6e6154-9633-4fb6-a331-232c035b20b7",
   "metadata": {},
   "outputs": [],
   "source": [
    "df_X = df_X.drop('fl_date', axis=1)"
   ]
  },
  {
   "cell_type": "code",
   "execution_count": 71,
   "id": "23fa8bc2-69a5-42c5-b642-3b2537dbdb0f",
   "metadata": {},
   "outputs": [
    {
     "data": {
      "text/plain": [
       "0    10.231136\n",
       "1    10.231136\n",
       "2    10.231136\n",
       "3     9.147818\n",
       "4     9.369769\n",
       "Name: avg_monthly_arr_delay, dtype: float64"
      ]
     },
     "execution_count": 71,
     "metadata": {},
     "output_type": "execute_result"
    }
   ],
   "source": [
    "df_X['avg_monthly_arr_delay'].head()"
   ]
  },
  {
   "cell_type": "code",
   "execution_count": 72,
   "id": "e3c28d75-f2e5-458e-aaa2-dbc43d3b1a3b",
   "metadata": {},
   "outputs": [
    {
     "data": {
      "text/plain": [
       "Text(0, 0.5, '% Cumulative explained variance')"
      ]
     },
     "execution_count": 72,
     "metadata": {},
     "output_type": "execute_result"
    },
    {
     "data": {
      "image/png": "[encoded data removed]",
      "text/plain": [
       "<Figure size 640x480 with 1 Axes>"
      ]
     },
     "metadata": {},
     "output_type": "display_data"
    }
   ],
   "source": [
    "pca = PCA().set_output(transform=\"pandas\")\n",
    "pca.fit_transform(df_X) \n",
    "\n",
    "cum_explained_variance = np.cumsum(pca.explained_variance_ratio_)\n",
    "plt.plot(cum_explained_variance)\n",
    "plt.xlabel('PC number')\n",
    "plt.ylabel('% Cumulative explained variance')"
   ]
  },
  {
   "cell_type": "code",
   "execution_count": 73,
   "id": "9d1dc4ea-0ff7-4823-b55c-8032082e27ba",
   "metadata": {},
   "outputs": [
    {
     "data": {
      "text/html": [
       "<div>\n",
       "<style scoped>\n",
       "    .dataframe tbody tr th:only-of-type {\n",
       "        vertical-align: middle;\n",
       "    }\n",
       "\n",
       "    .dataframe tbody tr th {\n",
       "        vertical-align: top;\n",
       "    }\n",
       "\n",
       "    .dataframe thead th {\n",
       "        text-align: right;\n",
       "    }\n",
       "</style>\n",
       "<table border=\"1\" class=\"dataframe\">\n",
       "  <thead>\n",
       "    <tr style=\"text-align: right;\">\n",
       "      <th></th>\n",
       "      <th>pca0</th>\n",
       "      <th>pca1</th>\n",
       "      <th>pca2</th>\n",
       "      <th>pca3</th>\n",
       "      <th>pca4</th>\n",
       "      <th>pca5</th>\n",
       "      <th>pca6</th>\n",
       "      <th>pca7</th>\n",
       "      <th>pca8</th>\n",
       "      <th>pca9</th>\n",
       "      <th>...</th>\n",
       "      <th>pca90</th>\n",
       "      <th>pca91</th>\n",
       "      <th>pca92</th>\n",
       "      <th>pca93</th>\n",
       "      <th>pca94</th>\n",
       "      <th>pca95</th>\n",
       "      <th>pca96</th>\n",
       "      <th>pca97</th>\n",
       "      <th>pca98</th>\n",
       "      <th>pca99</th>\n",
       "    </tr>\n",
       "  </thead>\n",
       "  <tbody>\n",
       "    <tr>\n",
       "      <th>0</th>\n",
       "      <td>4.763724</td>\n",
       "      <td>0.405790</td>\n",
       "      <td>-0.342041</td>\n",
       "      <td>0.042173</td>\n",
       "      <td>0.225853</td>\n",
       "      <td>-0.648633</td>\n",
       "      <td>1.073258</td>\n",
       "      <td>-0.658706</td>\n",
       "      <td>-0.073182</td>\n",
       "      <td>-0.125935</td>\n",
       "      <td>...</td>\n",
       "      <td>-0.013361</td>\n",
       "      <td>0.073574</td>\n",
       "      <td>-0.085773</td>\n",
       "      <td>-0.066738</td>\n",
       "      <td>0.005374</td>\n",
       "      <td>0.071220</td>\n",
       "      <td>0.018348</td>\n",
       "      <td>0.029074</td>\n",
       "      <td>-0.049406</td>\n",
       "      <td>0.139973</td>\n",
       "    </tr>\n",
       "    <tr>\n",
       "      <th>1</th>\n",
       "      <td>4.751046</td>\n",
       "      <td>-1.458564</td>\n",
       "      <td>0.009708</td>\n",
       "      <td>0.193835</td>\n",
       "      <td>0.091624</td>\n",
       "      <td>0.502195</td>\n",
       "      <td>-0.161046</td>\n",
       "      <td>0.892987</td>\n",
       "      <td>0.318640</td>\n",
       "      <td>-0.844744</td>\n",
       "      <td>...</td>\n",
       "      <td>0.170852</td>\n",
       "      <td>-0.228383</td>\n",
       "      <td>-0.132866</td>\n",
       "      <td>-0.366680</td>\n",
       "      <td>-0.118286</td>\n",
       "      <td>0.003764</td>\n",
       "      <td>0.106912</td>\n",
       "      <td>0.050085</td>\n",
       "      <td>-0.036405</td>\n",
       "      <td>-0.021110</td>\n",
       "    </tr>\n",
       "    <tr>\n",
       "      <th>2</th>\n",
       "      <td>4.768462</td>\n",
       "      <td>1.342485</td>\n",
       "      <td>-0.702872</td>\n",
       "      <td>-0.254509</td>\n",
       "      <td>0.239651</td>\n",
       "      <td>-0.330620</td>\n",
       "      <td>0.061780</td>\n",
       "      <td>1.110903</td>\n",
       "      <td>-0.166568</td>\n",
       "      <td>0.720675</td>\n",
       "      <td>...</td>\n",
       "      <td>0.026801</td>\n",
       "      <td>0.000980</td>\n",
       "      <td>0.012936</td>\n",
       "      <td>0.026439</td>\n",
       "      <td>-0.044229</td>\n",
       "      <td>-0.077882</td>\n",
       "      <td>-0.009646</td>\n",
       "      <td>0.013864</td>\n",
       "      <td>-0.044308</td>\n",
       "      <td>-0.029747</td>\n",
       "    </tr>\n",
       "    <tr>\n",
       "      <th>3</th>\n",
       "      <td>3.660279</td>\n",
       "      <td>-1.693197</td>\n",
       "      <td>-0.223442</td>\n",
       "      <td>-0.321374</td>\n",
       "      <td>-0.042859</td>\n",
       "      <td>0.436954</td>\n",
       "      <td>-0.714894</td>\n",
       "      <td>-0.146619</td>\n",
       "      <td>0.576117</td>\n",
       "      <td>-0.553373</td>\n",
       "      <td>...</td>\n",
       "      <td>-0.068578</td>\n",
       "      <td>-0.086342</td>\n",
       "      <td>0.053453</td>\n",
       "      <td>0.210006</td>\n",
       "      <td>0.158966</td>\n",
       "      <td>-0.095036</td>\n",
       "      <td>-0.130819</td>\n",
       "      <td>-0.095437</td>\n",
       "      <td>0.260264</td>\n",
       "      <td>-0.181219</td>\n",
       "    </tr>\n",
       "    <tr>\n",
       "      <th>4</th>\n",
       "      <td>3.889391</td>\n",
       "      <td>-1.079058</td>\n",
       "      <td>-0.228598</td>\n",
       "      <td>-0.142672</td>\n",
       "      <td>-0.000873</td>\n",
       "      <td>0.624507</td>\n",
       "      <td>-0.112207</td>\n",
       "      <td>0.402767</td>\n",
       "      <td>0.007062</td>\n",
       "      <td>-0.485093</td>\n",
       "      <td>...</td>\n",
       "      <td>0.017099</td>\n",
       "      <td>-0.067045</td>\n",
       "      <td>0.054104</td>\n",
       "      <td>0.044633</td>\n",
       "      <td>-0.046992</td>\n",
       "      <td>0.099993</td>\n",
       "      <td>-0.169654</td>\n",
       "      <td>-0.155144</td>\n",
       "      <td>-0.091975</td>\n",
       "      <td>-0.065199</td>\n",
       "    </tr>\n",
       "  </tbody>\n",
       "</table>\n",
       "<p>5 rows × 100 columns</p>\n",
       "</div>"
      ],
      "text/plain": [
       "       pca0      pca1      pca2      pca3      pca4      pca5      pca6  \\\n",
       "0  4.763724  0.405790 -0.342041  0.042173  0.225853 -0.648633  1.073258   \n",
       "1  4.751046 -1.458564  0.009708  0.193835  0.091624  0.502195 -0.161046   \n",
       "2  4.768462  1.342485 -0.702872 -0.254509  0.239651 -0.330620  0.061780   \n",
       "3  3.660279 -1.693197 -0.223442 -0.321374 -0.042859  0.436954 -0.714894   \n",
       "4  3.889391 -1.079058 -0.228598 -0.142672 -0.000873  0.624507 -0.112207   \n",
       "\n",
       "       pca7      pca8      pca9  ...     pca90     pca91     pca92     pca93  \\\n",
       "0 -0.658706 -0.073182 -0.125935  ... -0.013361  0.073574 -0.085773 -0.066738   \n",
       "1  0.892987  0.318640 -0.844744  ...  0.170852 -0.228383 -0.132866 -0.366680   \n",
       "2  1.110903 -0.166568  0.720675  ...  0.026801  0.000980  0.012936  0.026439   \n",
       "3 -0.146619  0.576117 -0.553373  ... -0.068578 -0.086342  0.053453  0.210006   \n",
       "4  0.402767  0.007062 -0.485093  ...  0.017099 -0.067045  0.054104  0.044633   \n",
       "\n",
       "      pca94     pca95     pca96     pca97     pca98     pca99  \n",
       "0  0.005374  0.071220  0.018348  0.029074 -0.049406  0.139973  \n",
       "1 -0.118286  0.003764  0.106912  0.050085 -0.036405 -0.021110  \n",
       "2 -0.044229 -0.077882 -0.009646  0.013864 -0.044308 -0.029747  \n",
       "3  0.158966 -0.095036 -0.130819 -0.095437  0.260264 -0.181219  \n",
       "4 -0.046992  0.099993 -0.169654 -0.155144 -0.091975 -0.065199  \n",
       "\n",
       "[5 rows x 100 columns]"
      ]
     },
     "execution_count": 73,
     "metadata": {},
     "output_type": "execute_result"
    }
   ],
   "source": [
    "pca = PCA(n_components=100).set_output(transform=\"pandas\")\n",
    "df_pca = pca.fit_transform(df_X) #enconded and scaled data (that was passed into clustering algo)\n",
    "df_pca.head()"
   ]
  },
  {
   "cell_type": "code",
   "execution_count": 74,
   "id": "befa21ac-8d7e-41d0-81b9-472cfc9a43a6",
   "metadata": {},
   "outputs": [
    {
     "name": "stdout",
     "output_type": "stream",
     "text": [
      "Coefficients: [  0.99916657  -0.09980227   0.83569072  -0.44085648   1.11074943\n",
      "  -0.68712443   2.05615758   0.89656816  -0.49144551   3.43640666\n",
      "  -1.14752106  -1.51659989 -12.79095423  -2.84272577  -1.3397959\n",
      "  -2.93318129   1.7101028    4.49925928   1.81440748   0.3243027\n",
      "  -0.8610073    0.53444237   1.31085915  -0.39176582  -2.05421214\n",
      "  -0.31830505  -0.58700305   0.11348696   0.99641094   0.16176917\n",
      "  -0.74197889   1.43747575   2.77104184  -1.3270951   -1.26178853\n",
      "  -0.35760019  -1.32144924  -1.78604979   0.65542619   0.47731015\n",
      "  -1.56974585   1.07310524  -1.59133726   2.2713863    0.37316747\n",
      "   0.55158048  -0.57106735   1.05949466   1.32456634   1.37255657\n",
      "   0.64664553  -1.17052685   0.34992392  -1.9572044   -0.51355129\n",
      "  -1.26700129   1.70024776   0.82789629  -1.42486902  -0.12940428\n",
      "   3.37656696  -5.3670332   -2.10933315   0.46585733  10.12721222\n",
      "  -2.10020326   0.49803018   3.6130811    1.31024302   2.38843536\n",
      "  -1.97749848   4.04284975   2.86234966   1.44045947   0.039731\n",
      "   1.42789128  -4.75897255   1.44423008   2.1885762    2.64369049\n",
      "  -0.74130645   4.02159083  -4.65449847   2.77844902  -0.18033038\n",
      "  -7.83387563   5.45498214  -0.67333258  -4.78245902   2.78087779\n",
      "  -2.0640414   -4.59109597   6.54200404   7.91889055  -5.01469187\n",
      "   7.2227328    4.56957043 -10.61658039   8.73639549  -7.69131639]\n",
      "Intercept: 5.485070108102619\n",
      "R^2 Score: 0.023601281371033678\n"
     ]
    }
   ],
   "source": []
  },
  {
   "cell_type": "code",
   "execution_count": 88,
   "id": "d92baa03-058b-425b-8744-034df8db84fa",
   "metadata": {},
   "outputs": [
    {
     "data": {
      "text/plain": [
       "Index(['fl_date', 'tail_info', 'taxi_out', 'taxi_in', 'air_time', 'flights',\n",
       "       'distance', 'origin_state', 'avg_monthly_arr_delay',\n",
       "       'avg_taxi_times_arr', 'mkt_unique_carrier_AA', 'mkt_unique_carrier_AS',\n",
       "       'mkt_unique_carrier_B6', 'mkt_unique_carrier_DL',\n",
       "       'mkt_unique_carrier_F9', 'mkt_unique_carrier_G4',\n",
       "       'mkt_unique_carrier_HA', 'mkt_unique_carrier_NK',\n",
       "       'mkt_unique_carrier_UA', 'mkt_unique_carrier_VX',\n",
       "       'mkt_unique_carrier_WN', 'cancelled_0.0', 'diverted_0.0', 'month_1',\n",
       "       'month_2', 'month_3', 'month_4', 'month_5', 'month_6', 'month_7',\n",
       "       'month_8', 'month_9', 'month_10', 'month_11', 'month_12', 'dep_hour_0',\n",
       "       'dep_hour_1', 'dep_hour_2', 'dep_hour_3', 'dep_hour_4', 'dep_hour_5',\n",
       "       'dep_hour_6', 'dep_hour_7', 'dep_hour_8', 'dep_hour_9', 'dep_hour_10',\n",
       "       'dep_hour_11', 'dep_hour_12', 'dep_hour_13', 'dep_hour_14',\n",
       "       'dep_hour_15', 'dep_hour_16', 'dep_hour_17', 'dep_hour_18',\n",
       "       'dep_hour_19', 'dep_hour_20', 'dep_hour_21', 'dep_hour_22',\n",
       "       'dep_hour_23', 'arr_hour_0', 'arr_hour_1', 'arr_hour_2', 'arr_hour_3',\n",
       "       'arr_hour_4', 'arr_hour_5', 'arr_hour_6', 'arr_hour_7', 'arr_hour_8',\n",
       "       'arr_hour_9', 'arr_hour_10', 'arr_hour_11', 'arr_hour_12',\n",
       "       'arr_hour_13', 'arr_hour_14', 'arr_hour_15', 'arr_hour_16',\n",
       "       'arr_hour_17', 'arr_hour_18', 'arr_hour_19', 'arr_hour_20',\n",
       "       'arr_hour_21', 'arr_hour_22', 'arr_hour_23',\n",
       "       'flight_distance_category_LONG', 'flight_distance_category_MEDIUM',\n",
       "       'flight_distance_category_SHORT', 'traffic_Not Busy',\n",
       "       'traffic_Moderate', 'traffic_Busy', 'traffic_Very Busy', 'holiday_0',\n",
       "       'holiday_1'],\n",
       "      dtype='object')"
      ]
     },
     "execution_count": 88,
     "metadata": {},
     "output_type": "execute_result"
    }
   ],
   "source": [
    "df_encoded2.columns"
   ]
  },
  {
   "cell_type": "code",
   "execution_count": 90,
   "id": "ebaf350a-c7e4-47ca-946d-b97745cb119f",
   "metadata": {},
   "outputs": [],
   "source": [
    "df_encoded2 = df_encoded2.drop(['fl_date', 'tail_info'], axis=1)"
   ]
  },
  {
   "cell_type": "code",
   "execution_count": 106,
   "id": "5231d8ca-d841-4417-b726-da19477f4bcf",
   "metadata": {},
   "outputs": [
    {
     "name": "stdout",
     "output_type": "stream",
     "text": [
      "Coefficients: [-3.98013366e-03 -7.46015539e-03 -3.06096275e-10  4.49543715e-01\n",
      " -5.48258842e-02  1.05264412e+00 -2.63366071e-03 -1.38983720e+00\n",
      " -7.35219816e+00  3.26969133e+00 -3.84460202e+00  5.27243761e+00\n",
      "  3.76059997e+00 -3.11840314e+00 -7.05923674e-01  1.80232852e+00\n",
      "  5.14020729e+00 -2.83430052e+00  5.55111512e-14  8.52651283e-14\n",
      "  1.77953667e+00 -3.91811966e+00  3.46266774e+00 -1.08594365e+01\n",
      " -6.46014287e+00 -4.75400464e+00 -1.50464116e+00 -6.28881506e-01\n",
      "  2.09728848e+00  2.25537675e+00  3.35733820e+00  2.66802870e+00\n",
      "  3.00045244e+00  2.75201962e+00  1.21929856e+00  1.03264597e-01\n",
      "  2.30453141e-01  9.36087738e-01  2.19485726e-01 -8.39165140e-01\n",
      "  6.24857234e-01 -2.14407926e+00 -1.60077843e+00  8.00309358e+00\n",
      "  2.29128562e+00  4.78584315e+00 -6.94484840e+00 -2.02778247e+01\n",
      "  3.75204324e+00  2.21570351e+00  4.41610599e-01 -3.38040562e+00\n",
      " -3.90807719e+00 -4.53203838e+00 -6.37445755e+00 -5.70070330e+00\n",
      " -5.63440410e+00 -4.12356889e+00 -2.56902239e+00  3.97459387e-01\n",
      "  2.58466074e+00  4.19471660e+00  5.06467338e+00  7.07922508e+00\n",
      "  8.43169859e+00  7.68042216e+00  7.50554808e+00  7.02046036e+00\n",
      " -5.10720597e-01  2.29723705e+00  9.96772618e-01]\n",
      "Intercept: -6.8218651823776915\n",
      "R^2 Score: 0.03190524964978092\n"
     ]
    }
   ],
   "source": [
    "\n",
    "# Linear regression model for PCA data\n",
    "\n",
    "# Separate the input features (X) and the target variable (y)\n",
    "X = df_encoded2[['taxi_out', 'taxi_in', 'flights','air_time',\n",
    "       'distance','avg_monthly_arr_delay',\n",
    "       'avg_taxi_times_arr', 'mkt_unique_carrier_AA', 'mkt_unique_carrier_AS',\n",
    "        'mkt_unique_carrier_B6', 'mkt_unique_carrier_DL',\n",
    "       'mkt_unique_carrier_F9', 'mkt_unique_carrier_G4',\n",
    "       'mkt_unique_carrier_HA', 'mkt_unique_carrier_NK',\n",
    "       'mkt_unique_carrier_UA', 'mkt_unique_carrier_VX',\n",
    "       'mkt_unique_carrier_WN','cancelled_0.0', 'diverted_0.0',\n",
    "       'dep_hour_0',\n",
    "       'dep_hour_1', 'dep_hour_2', 'dep_hour_3', 'dep_hour_4', 'dep_hour_5',\n",
    "       'dep_hour_6', 'dep_hour_7', 'dep_hour_8', 'dep_hour_9', 'dep_hour_10',\n",
    "       'dep_hour_11', 'dep_hour_12', 'dep_hour_13', 'dep_hour_14',\n",
    "       'dep_hour_15', 'dep_hour_16', 'dep_hour_17', 'dep_hour_18',\n",
    "       'dep_hour_19', 'dep_hour_20', 'dep_hour_21', 'dep_hour_22',\n",
    "       'dep_hour_23', 'arr_hour_0', 'arr_hour_1', 'arr_hour_2', 'arr_hour_3',\n",
    "       'arr_hour_4', 'arr_hour_5', 'arr_hour_6', 'arr_hour_7', 'arr_hour_8',\n",
    "       'arr_hour_9', 'arr_hour_10', 'arr_hour_11', 'arr_hour_12',\n",
    "       'arr_hour_13', 'arr_hour_14', 'arr_hour_15', 'arr_hour_16',\n",
    "       'arr_hour_17', 'arr_hour_18', 'arr_hour_19', 'arr_hour_20',\n",
    "       'arr_hour_21', 'arr_hour_22', 'arr_hour_23',\n",
    "       'flight_distance_category_LONG', \n",
    "       'traffic_Very Busy',\n",
    "       'holiday_1']]\n",
    "\n",
    "y = flights_dfs['arr_delay']\n",
    "\n",
    "# Split the data into training and testing sets\n",
    "X_train, X_test, y_train, y_test = train_test_split(X, y, test_size=0.2, random_state=42)\n",
    "\n",
    "# Create a linear regression model\n",
    "model = LinearRegression()\n",
    "\n",
    "# Train the model using the training data\n",
    "model.fit(X_train, y_train)\n",
    "\n",
    "# Make predictions on the testing data\n",
    "y_pred = model.predict(X_test)\n",
    "\n",
    "# Evaluate the model\n",
    "score = model.score(X_test, y_test)\n",
    "\n",
    "# Print the coefficient and intercept of the linear regression model\n",
    "print('Coefficients:', model.coef_)\n",
    "print('Intercept:', model.intercept_)\n",
    "print('R^2 Score:', score)"
   ]
  },
  {
   "cell_type": "code",
   "execution_count": null,
   "id": "9dcded59-d0db-41fe-9b49-ce9e091dad2f",
   "metadata": {},
   "outputs": [],
   "source": [
    "# This PCA model is slightly better then the PCA model in the models notebook however nothing significant."
   ]
  }
 ],
 "metadata": {
  "kernelspec": {
   "display_name": "Python 3 (ipykernel)",
   "language": "python",
   "name": "python3"
  },
  "language_info": {
   "codemirror_mode": {
    "name": "ipython",
    "version": 3
   },
   "file_extension": ".py",
   "mimetype": "text/x-python",
   "name": "python",
   "nbconvert_exporter": "python",
   "pygments_lexer": "ipython3",
   "version": "3.10.9"
  }
 },
 "nbformat": 4,
 "nbformat_minor": 5
}
