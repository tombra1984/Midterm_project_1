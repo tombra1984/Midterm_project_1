{
 "cells": [
  {
   "cell_type": "code",
   "execution_count": 2,
   "id": "ef31ed61-af27-405c-b84f-5b1c14170594",
   "metadata": {},
   "outputs": [],
   "source": [
    "import pandas as pd\n",
    "import seaborn as sns\n",
    "import matplotlib.pyplot as plt\n",
    "import requests\n",
    "import scipy.stats as stats\n",
    "import numpy as np\n",
    "\n",
    "import plotly.express as px\n",
    "import plotly.graph_objs as go\n",
    "from sklearn.preprocessing import MinMaxScaler\n",
    "\n",
    "from sklearn.preprocessing import MinMaxScaler, OneHotEncoder, LabelEncoder, StandardScaler\n",
    "from sklearn.cluster import KMeans\n",
    "from sklearn.decomposition import PCA\n",
    "from sklearn.metrics import silhouette_score\n",
    "from sklearn.linear_model import LogisticRegression\n",
    "from sklearn.model_selection import StratifiedKFold"
   ]
  },
  {
   "cell_type": "code",
   "execution_count": 3,
   "id": "3bb5671c-8547-4a06-bb32-39000250eb08",
   "metadata": {},
   "outputs": [],
   "source": [
    "from sklearn.linear_model import LinearRegression\n",
    "from sklearn.model_selection import train_test_split\n",
    "from sklearn.ensemble import RandomForestRegressor\n",
    "from sklearn.metrics import mean_squared_error, r2_score\n",
    "from sklearn.linear_model import LogisticRegression\n",
    "from sklearn.model_selection import StratifiedKFold\n",
    "from sklearn.model_selection import KFold"
   ]
  },
  {
   "cell_type": "code",
   "execution_count": 4,
   "id": "29c1a454-0f6f-4e8b-8664-32f5f36c8d22",
   "metadata": {},
   "outputs": [
    {
     "name": "stderr",
     "output_type": "stream",
     "text": [
      "/var/folders/j1/j5f5974x3sj1crjx533p6k9h0000gn/T/ipykernel_45830/2849657743.py:2: DtypeWarning: Columns (25) have mixed types. Specify dtype option on import or set low_memory=False.\n",
      "  flights_df = pd.read_csv(\"/Users/ckz/Desktop/DATA_SCIENCE_BOOTCAMP/Midterm-project/flights.csv\")\n"
     ]
    },
    {
     "data": {
      "text/html": [
       "<div>\n",
       "<style scoped>\n",
       "    .dataframe tbody tr th:only-of-type {\n",
       "        vertical-align: middle;\n",
       "    }\n",
       "\n",
       "    .dataframe tbody tr th {\n",
       "        vertical-align: top;\n",
       "    }\n",
       "\n",
       "    .dataframe thead th {\n",
       "        text-align: right;\n",
       "    }\n",
       "</style>\n",
       "<table border=\"1\" class=\"dataframe\">\n",
       "  <thead>\n",
       "    <tr style=\"text-align: right;\">\n",
       "      <th></th>\n",
       "      <th>fl_date</th>\n",
       "      <th>mkt_unique_carrier</th>\n",
       "      <th>branded_code_share</th>\n",
       "      <th>mkt_carrier</th>\n",
       "      <th>mkt_carrier_fl_num</th>\n",
       "      <th>op_unique_carrier</th>\n",
       "      <th>tail_num</th>\n",
       "      <th>op_carrier_fl_num</th>\n",
       "      <th>origin_airport_id</th>\n",
       "      <th>origin</th>\n",
       "      <th>...</th>\n",
       "      <th>distance</th>\n",
       "      <th>carrier_delay</th>\n",
       "      <th>weather_delay</th>\n",
       "      <th>nas_delay</th>\n",
       "      <th>security_delay</th>\n",
       "      <th>late_aircraft_delay</th>\n",
       "      <th>first_dep_time</th>\n",
       "      <th>total_add_gtime</th>\n",
       "      <th>longest_add_gtime</th>\n",
       "      <th>no_name</th>\n",
       "    </tr>\n",
       "  </thead>\n",
       "  <tbody>\n",
       "    <tr>\n",
       "      <th>0</th>\n",
       "      <td>2018-01-01</td>\n",
       "      <td>B6</td>\n",
       "      <td>B6</td>\n",
       "      <td>B6</td>\n",
       "      <td>880</td>\n",
       "      <td>B6</td>\n",
       "      <td>N794JB</td>\n",
       "      <td>880</td>\n",
       "      <td>12954</td>\n",
       "      <td>LGB</td>\n",
       "      <td>...</td>\n",
       "      <td>231.0</td>\n",
       "      <td>NaN</td>\n",
       "      <td>NaN</td>\n",
       "      <td>NaN</td>\n",
       "      <td>NaN</td>\n",
       "      <td>NaN</td>\n",
       "      <td>NaN</td>\n",
       "      <td>NaN</td>\n",
       "      <td>NaN</td>\n",
       "      <td>NaN</td>\n",
       "    </tr>\n",
       "    <tr>\n",
       "      <th>1</th>\n",
       "      <td>2018-01-01</td>\n",
       "      <td>B6</td>\n",
       "      <td>B6</td>\n",
       "      <td>B6</td>\n",
       "      <td>885</td>\n",
       "      <td>B6</td>\n",
       "      <td>N337JB</td>\n",
       "      <td>885</td>\n",
       "      <td>12478</td>\n",
       "      <td>JFK</td>\n",
       "      <td>...</td>\n",
       "      <td>427.0</td>\n",
       "      <td>NaN</td>\n",
       "      <td>NaN</td>\n",
       "      <td>NaN</td>\n",
       "      <td>NaN</td>\n",
       "      <td>NaN</td>\n",
       "      <td>NaN</td>\n",
       "      <td>NaN</td>\n",
       "      <td>NaN</td>\n",
       "      <td>NaN</td>\n",
       "    </tr>\n",
       "    <tr>\n",
       "      <th>2</th>\n",
       "      <td>2018-01-01</td>\n",
       "      <td>B6</td>\n",
       "      <td>B6</td>\n",
       "      <td>B6</td>\n",
       "      <td>886</td>\n",
       "      <td>B6</td>\n",
       "      <td>N337JB</td>\n",
       "      <td>886</td>\n",
       "      <td>14492</td>\n",
       "      <td>RDU</td>\n",
       "      <td>...</td>\n",
       "      <td>427.0</td>\n",
       "      <td>NaN</td>\n",
       "      <td>NaN</td>\n",
       "      <td>NaN</td>\n",
       "      <td>NaN</td>\n",
       "      <td>NaN</td>\n",
       "      <td>NaN</td>\n",
       "      <td>NaN</td>\n",
       "      <td>NaN</td>\n",
       "      <td>NaN</td>\n",
       "    </tr>\n",
       "    <tr>\n",
       "      <th>3</th>\n",
       "      <td>2018-01-01</td>\n",
       "      <td>B6</td>\n",
       "      <td>B6</td>\n",
       "      <td>B6</td>\n",
       "      <td>889</td>\n",
       "      <td>B6</td>\n",
       "      <td>N318JB</td>\n",
       "      <td>889</td>\n",
       "      <td>11278</td>\n",
       "      <td>DCA</td>\n",
       "      <td>...</td>\n",
       "      <td>444.0</td>\n",
       "      <td>0.0</td>\n",
       "      <td>0.0</td>\n",
       "      <td>8.0</td>\n",
       "      <td>0.0</td>\n",
       "      <td>10.0</td>\n",
       "      <td>NaN</td>\n",
       "      <td>NaN</td>\n",
       "      <td>NaN</td>\n",
       "      <td>NaN</td>\n",
       "    </tr>\n",
       "    <tr>\n",
       "      <th>4</th>\n",
       "      <td>2018-01-01</td>\n",
       "      <td>B6</td>\n",
       "      <td>B6</td>\n",
       "      <td>B6</td>\n",
       "      <td>891</td>\n",
       "      <td>B6</td>\n",
       "      <td>N348JB</td>\n",
       "      <td>891</td>\n",
       "      <td>10721</td>\n",
       "      <td>BOS</td>\n",
       "      <td>...</td>\n",
       "      <td>1185.0</td>\n",
       "      <td>NaN</td>\n",
       "      <td>NaN</td>\n",
       "      <td>NaN</td>\n",
       "      <td>NaN</td>\n",
       "      <td>NaN</td>\n",
       "      <td>NaN</td>\n",
       "      <td>NaN</td>\n",
       "      <td>NaN</td>\n",
       "      <td>NaN</td>\n",
       "    </tr>\n",
       "  </tbody>\n",
       "</table>\n",
       "<p>5 rows × 42 columns</p>\n",
       "</div>"
      ],
      "text/plain": [
       "      fl_date mkt_unique_carrier branded_code_share mkt_carrier  \\\n",
       "0  2018-01-01                 B6                 B6          B6   \n",
       "1  2018-01-01                 B6                 B6          B6   \n",
       "2  2018-01-01                 B6                 B6          B6   \n",
       "3  2018-01-01                 B6                 B6          B6   \n",
       "4  2018-01-01                 B6                 B6          B6   \n",
       "\n",
       "   mkt_carrier_fl_num op_unique_carrier tail_num  op_carrier_fl_num  \\\n",
       "0                 880                B6   N794JB                880   \n",
       "1                 885                B6   N337JB                885   \n",
       "2                 886                B6   N337JB                886   \n",
       "3                 889                B6   N318JB                889   \n",
       "4                 891                B6   N348JB                891   \n",
       "\n",
       "   origin_airport_id origin  ... distance  carrier_delay weather_delay  \\\n",
       "0              12954    LGB  ...    231.0            NaN           NaN   \n",
       "1              12478    JFK  ...    427.0            NaN           NaN   \n",
       "2              14492    RDU  ...    427.0            NaN           NaN   \n",
       "3              11278    DCA  ...    444.0            0.0           0.0   \n",
       "4              10721    BOS  ...   1185.0            NaN           NaN   \n",
       "\n",
       "  nas_delay  security_delay  late_aircraft_delay  first_dep_time  \\\n",
       "0       NaN             NaN                  NaN             NaN   \n",
       "1       NaN             NaN                  NaN             NaN   \n",
       "2       NaN             NaN                  NaN             NaN   \n",
       "3       8.0             0.0                 10.0             NaN   \n",
       "4       NaN             NaN                  NaN             NaN   \n",
       "\n",
       "   total_add_gtime  longest_add_gtime  no_name  \n",
       "0              NaN                NaN      NaN  \n",
       "1              NaN                NaN      NaN  \n",
       "2              NaN                NaN      NaN  \n",
       "3              NaN                NaN      NaN  \n",
       "4              NaN                NaN      NaN  \n",
       "\n",
       "[5 rows x 42 columns]"
      ]
     },
     "execution_count": 4,
     "metadata": {},
     "output_type": "execute_result"
    }
   ],
   "source": [
    "# Imported this dataframe that was created in our EDA notebook\n",
    "flights_df = pd.read_csv(\"/Users/ckz/Desktop/DATA_SCIENCE_BOOTCAMP/Midterm-project/flights.csv\")\n",
    "\n",
    "# print the first few rows of the DataFrame\n",
    "flights_df.head()"
   ]
  },
  {
   "cell_type": "code",
   "execution_count": 5,
   "id": "f12c3203-cf69-4111-95bd-91b0d3f9af9c",
   "metadata": {},
   "outputs": [],
   "source": [
    "# # Shuffle the data in the DataFrame and create a sample with half the size\n",
    "sample_size = len(flights_df) // 10\n",
    "\n",
    "flights_df_sample = flights_df.sample(n=sample_size, random_state=42)\n",
    "\n",
    "## Reset the index of the shuffled sample\n",
    "\n",
    "flights_df_sample.reset_index(drop=True, inplace=True)"
   ]
  },
  {
   "cell_type": "code",
   "execution_count": 6,
   "id": "2e32f35d-1090-4bdd-b6a5-439fb6cb8359",
   "metadata": {},
   "outputs": [],
   "source": [
    "flights_test = pd.read_csv(\"/Users/ckz/Desktop/DATA_SCIENCE_BOOTCAMP/Midterm-project/flight_test.csv\")"
   ]
  },
  {
   "cell_type": "code",
   "execution_count": 7,
   "id": "81fa5beb-0952-473a-bb2a-80cdd2bd5a58",
   "metadata": {},
   "outputs": [
    {
     "data": {
      "text/plain": [
       "Index(['fl_date', 'mkt_unique_carrier', 'branded_code_share', 'mkt_carrier',\n",
       "       'mkt_carrier_fl_num', 'op_unique_carrier', 'tail_num',\n",
       "       'op_carrier_fl_num', 'origin_airport_id', 'origin', 'origin_city_name',\n",
       "       'dest_airport_id', 'dest', 'dest_city_name', 'crs_dep_time', 'dep_time',\n",
       "       'dep_delay', 'taxi_out', 'wheels_off', 'wheels_on', 'taxi_in',\n",
       "       'crs_arr_time', 'arr_time', 'arr_delay', 'cancelled',\n",
       "       'cancellation_code', 'diverted', 'dup', 'crs_elapsed_time',\n",
       "       'actual_elapsed_time', 'air_time', 'flights', 'distance',\n",
       "       'carrier_delay', 'weather_delay', 'nas_delay', 'security_delay',\n",
       "       'late_aircraft_delay', 'first_dep_time', 'total_add_gtime',\n",
       "       'longest_add_gtime', 'no_name'],\n",
       "      dtype='object')"
      ]
     },
     "execution_count": 7,
     "metadata": {},
     "output_type": "execute_result"
    }
   ],
   "source": [
    "flights_df_sample.columns"
   ]
  },
  {
   "cell_type": "code",
   "execution_count": 8,
   "id": "02f13ee5-eb2c-4b0d-a3d6-04f1cbded1b1",
   "metadata": {},
   "outputs": [
    {
     "data": {
      "text/plain": [
       "Index(['fl_date', 'mkt_unique_carrier', 'branded_code_share', 'mkt_carrier',\n",
       "       'mkt_carrier_fl_num', 'op_unique_carrier', 'tail_num',\n",
       "       'op_carrier_fl_num', 'origin_airport_id', 'origin', 'origin_city_name',\n",
       "       'dest_airport_id', 'dest', 'dest_city_name', 'crs_dep_time',\n",
       "       'crs_arr_time', 'dup', 'crs_elapsed_time', 'flights', 'distance'],\n",
       "      dtype='object')"
      ]
     },
     "execution_count": 8,
     "metadata": {},
     "output_type": "execute_result"
    }
   ],
   "source": [
    "flights_test.columns"
   ]
  },
  {
   "cell_type": "code",
   "execution_count": 9,
   "id": "6b8da7e0-8c90-4e0e-8b06-e99cdd788887",
   "metadata": {},
   "outputs": [],
   "source": [
    "flights_df_sample = flights_df_sample[['fl_date','arr_delay','mkt_unique_carrier', 'branded_code_share', 'mkt_carrier',\n",
    "       'mkt_carrier_fl_num', 'op_unique_carrier', 'tail_num',\n",
    "       'op_carrier_fl_num', 'origin_airport_id', 'origin', 'origin_city_name',\n",
    "       'dest_airport_id', 'dest', 'dest_city_name', 'crs_dep_time',\n",
    "       'crs_arr_time', 'dup', 'crs_elapsed_time', 'flights', 'distance']].copy()"
   ]
  },
  {
   "cell_type": "code",
   "execution_count": 10,
   "id": "281fdd30-da37-47bb-ae93-dedded9ed123",
   "metadata": {},
   "outputs": [],
   "source": [
    "# Extract month from fl_date column\n",
    "flights_df_sample['month'] = pd.to_datetime(flights_df_sample['fl_date']).dt.month"
   ]
  },
  {
   "cell_type": "code",
   "execution_count": 11,
   "id": "97cda88f-21fd-491e-b9f3-3507c5215ca6",
   "metadata": {},
   "outputs": [],
   "source": [
    "flights_test['month'] = pd.to_datetime(flights_test['fl_date']).dt.month"
   ]
  },
  {
   "cell_type": "code",
   "execution_count": 12,
   "id": "749efbf6-7172-407b-b4b5-269d1ecb03e9",
   "metadata": {},
   "outputs": [],
   "source": [
    "flights_df_sample['avg_monthly_arr_delay'] = flights_df_sample.groupby('month')['arr_delay'].transform('mean')"
   ]
  },
  {
   "cell_type": "code",
   "execution_count": 13,
   "id": "75acabb1-930d-4d8e-bbad-20b7b223af5d",
   "metadata": {},
   "outputs": [
    {
     "name": "stdout",
     "output_type": "stream",
     "text": [
      "9.209757    14129\n",
      "9.396488    14122\n",
      "2.961378    13790\n",
      "2.866672    13757\n",
      "7.073326    13626\n",
      "9.866914    13517\n",
      "4.676415    13400\n",
      "2.231817    13134\n",
      "1.693996    12996\n",
      "3.761830    12988\n",
      "3.630774    12378\n",
      "7.233239    11272\n",
      "Name: avg_monthly_arr_delay, dtype: int64\n"
     ]
    }
   ],
   "source": [
    "value_counts = flights_df_sample['avg_monthly_arr_delay'].value_counts()\n",
    "print(value_counts)"
   ]
  },
  {
   "cell_type": "code",
   "execution_count": 14,
   "id": "b8080c26-f223-4dbf-aa6c-bef66ff14743",
   "metadata": {},
   "outputs": [],
   "source": [
    "import pandas as pd\n",
    "\n",
    "# Create a dictionary with month as keys and corresponding average delay as values\n",
    "average_delays = {\n",
    "    1: 9.209757,\n",
    "    2: 9.396488,\n",
    "    3: 2.961378,\n",
    "    4: 2.866672,\n",
    "    5: 7.073326,\n",
    "    6: 9.866914,\n",
    "    7: 4.676415,\n",
    "    8: 2.231817,\n",
    "    9: 1.693996,\n",
    "    10: 3.761830,\n",
    "    11: 3.630774,\n",
    "    12: 7.233239\n",
    "}\n",
    "\n",
    "# Map the average delays based on the 'month' column\n",
    "flights_test['avg_monthly_arr_delay'] = flights_test['month'].map(average_delays)"
   ]
  },
  {
   "cell_type": "code",
   "execution_count": 15,
   "id": "7bb1a86f-2dc5-4eaa-b685-9d47357016fa",
   "metadata": {},
   "outputs": [
    {
     "data": {
      "text/plain": [
       "0"
      ]
     },
     "execution_count": 15,
     "metadata": {},
     "output_type": "execute_result"
    }
   ],
   "source": [
    "flights_test['avg_monthly_arr_delay'].isnull().sum()"
   ]
  },
  {
   "cell_type": "code",
   "execution_count": 25,
   "id": "74259271-11c6-4da1-86d3-85bfafe214ac",
   "metadata": {},
   "outputs": [],
   "source": [
    "flights_df_s = flights_df_sample[['fl_date','arr_delay','mkt_unique_carrier', 'distance','avg_monthly_arr_delay','month']].copy()"
   ]
  },
  {
   "cell_type": "code",
   "execution_count": 26,
   "id": "c153b085-56fd-48eb-aa02-3c32459bc582",
   "metadata": {},
   "outputs": [],
   "source": [
    "flights_t = flights_test[['fl_date','mkt_unique_carrier', 'distance','avg_monthly_arr_delay','month']].copy()"
   ]
  },
  {
   "cell_type": "code",
   "execution_count": 27,
   "id": "46b76167-3049-4a85-b132-c003ade1b44b",
   "metadata": {},
   "outputs": [],
   "source": [
    "df_encoded = pd.get_dummies(data=flights_df_s, columns=['mkt_unique_carrier','month'] , drop_first=False)\n",
    "\n"
   ]
  },
  {
   "cell_type": "code",
   "execution_count": 21,
   "id": "9e2aa65f-aaef-4dcb-b350-86217d394297",
   "metadata": {},
   "outputs": [
    {
     "data": {
      "text/html": [
       "<div>\n",
       "<style scoped>\n",
       "    .dataframe tbody tr th:only-of-type {\n",
       "        vertical-align: middle;\n",
       "    }\n",
       "\n",
       "    .dataframe tbody tr th {\n",
       "        vertical-align: top;\n",
       "    }\n",
       "\n",
       "    .dataframe thead th {\n",
       "        text-align: right;\n",
       "    }\n",
       "</style>\n",
       "<table border=\"1\" class=\"dataframe\">\n",
       "  <thead>\n",
       "    <tr style=\"text-align: right;\">\n",
       "      <th></th>\n",
       "      <th>fl_date</th>\n",
       "      <th>arr_delay</th>\n",
       "      <th>distance</th>\n",
       "      <th>avg_monthly_arr_delay</th>\n",
       "      <th>mkt_unique_carrier_AA</th>\n",
       "      <th>mkt_unique_carrier_AS</th>\n",
       "      <th>mkt_unique_carrier_B6</th>\n",
       "      <th>mkt_unique_carrier_DL</th>\n",
       "      <th>mkt_unique_carrier_F9</th>\n",
       "      <th>mkt_unique_carrier_G4</th>\n",
       "      <th>mkt_unique_carrier_HA</th>\n",
       "      <th>mkt_unique_carrier_NK</th>\n",
       "      <th>mkt_unique_carrier_UA</th>\n",
       "      <th>mkt_unique_carrier_VX</th>\n",
       "      <th>mkt_unique_carrier_WN</th>\n",
       "    </tr>\n",
       "  </thead>\n",
       "  <tbody>\n",
       "    <tr>\n",
       "      <th>0</th>\n",
       "      <td>2019-11-02</td>\n",
       "      <td>9.0</td>\n",
       "      <td>446.0</td>\n",
       "      <td>2.231817</td>\n",
       "      <td>0</td>\n",
       "      <td>0</td>\n",
       "      <td>0</td>\n",
       "      <td>0</td>\n",
       "      <td>0</td>\n",
       "      <td>0</td>\n",
       "      <td>0</td>\n",
       "      <td>0</td>\n",
       "      <td>0</td>\n",
       "      <td>0</td>\n",
       "      <td>1</td>\n",
       "    </tr>\n",
       "    <tr>\n",
       "      <th>1</th>\n",
       "      <td>2018-01-29</td>\n",
       "      <td>-13.0</td>\n",
       "      <td>696.0</td>\n",
       "      <td>3.630774</td>\n",
       "      <td>0</td>\n",
       "      <td>0</td>\n",
       "      <td>0</td>\n",
       "      <td>0</td>\n",
       "      <td>0</td>\n",
       "      <td>0</td>\n",
       "      <td>0</td>\n",
       "      <td>0</td>\n",
       "      <td>0</td>\n",
       "      <td>0</td>\n",
       "      <td>1</td>\n",
       "    </tr>\n",
       "    <tr>\n",
       "      <th>2</th>\n",
       "      <td>2018-03-29</td>\n",
       "      <td>7.0</td>\n",
       "      <td>294.0</td>\n",
       "      <td>2.961378</td>\n",
       "      <td>1</td>\n",
       "      <td>0</td>\n",
       "      <td>0</td>\n",
       "      <td>0</td>\n",
       "      <td>0</td>\n",
       "      <td>0</td>\n",
       "      <td>0</td>\n",
       "      <td>0</td>\n",
       "      <td>0</td>\n",
       "      <td>0</td>\n",
       "      <td>0</td>\n",
       "    </tr>\n",
       "    <tr>\n",
       "      <th>3</th>\n",
       "      <td>2019-03-27</td>\n",
       "      <td>-8.0</td>\n",
       "      <td>328.0</td>\n",
       "      <td>2.961378</td>\n",
       "      <td>1</td>\n",
       "      <td>0</td>\n",
       "      <td>0</td>\n",
       "      <td>0</td>\n",
       "      <td>0</td>\n",
       "      <td>0</td>\n",
       "      <td>0</td>\n",
       "      <td>0</td>\n",
       "      <td>0</td>\n",
       "      <td>0</td>\n",
       "      <td>0</td>\n",
       "    </tr>\n",
       "    <tr>\n",
       "      <th>4</th>\n",
       "      <td>2019-06-26</td>\n",
       "      <td>-6.0</td>\n",
       "      <td>451.0</td>\n",
       "      <td>9.866914</td>\n",
       "      <td>0</td>\n",
       "      <td>0</td>\n",
       "      <td>0</td>\n",
       "      <td>0</td>\n",
       "      <td>0</td>\n",
       "      <td>0</td>\n",
       "      <td>0</td>\n",
       "      <td>0</td>\n",
       "      <td>1</td>\n",
       "      <td>0</td>\n",
       "      <td>0</td>\n",
       "    </tr>\n",
       "  </tbody>\n",
       "</table>\n",
       "</div>"
      ],
      "text/plain": [
       "      fl_date  arr_delay  distance  avg_monthly_arr_delay  \\\n",
       "0  2019-11-02        9.0     446.0               2.231817   \n",
       "1  2018-01-29      -13.0     696.0               3.630774   \n",
       "2  2018-03-29        7.0     294.0               2.961378   \n",
       "3  2019-03-27       -8.0     328.0               2.961378   \n",
       "4  2019-06-26       -6.0     451.0               9.866914   \n",
       "\n",
       "   mkt_unique_carrier_AA  mkt_unique_carrier_AS  mkt_unique_carrier_B6  \\\n",
       "0                      0                      0                      0   \n",
       "1                      0                      0                      0   \n",
       "2                      1                      0                      0   \n",
       "3                      1                      0                      0   \n",
       "4                      0                      0                      0   \n",
       "\n",
       "   mkt_unique_carrier_DL  mkt_unique_carrier_F9  mkt_unique_carrier_G4  \\\n",
       "0                      0                      0                      0   \n",
       "1                      0                      0                      0   \n",
       "2                      0                      0                      0   \n",
       "3                      0                      0                      0   \n",
       "4                      0                      0                      0   \n",
       "\n",
       "   mkt_unique_carrier_HA  mkt_unique_carrier_NK  mkt_unique_carrier_UA  \\\n",
       "0                      0                      0                      0   \n",
       "1                      0                      0                      0   \n",
       "2                      0                      0                      0   \n",
       "3                      0                      0                      0   \n",
       "4                      0                      0                      1   \n",
       "\n",
       "   mkt_unique_carrier_VX  mkt_unique_carrier_WN  \n",
       "0                      0                      1  \n",
       "1                      0                      1  \n",
       "2                      0                      0  \n",
       "3                      0                      0  \n",
       "4                      0                      0  "
      ]
     },
     "execution_count": 21,
     "metadata": {},
     "output_type": "execute_result"
    }
   ],
   "source": [
    "df_encoded.head()"
   ]
  },
  {
   "cell_type": "code",
   "execution_count": 28,
   "id": "00173902-7bbd-4933-835e-4f792c788405",
   "metadata": {},
   "outputs": [
    {
     "data": {
      "text/plain": [
       "Index(['fl_date', 'arr_delay', 'distance', 'avg_monthly_arr_delay',\n",
       "       'mkt_unique_carrier_AA', 'mkt_unique_carrier_AS',\n",
       "       'mkt_unique_carrier_B6', 'mkt_unique_carrier_DL',\n",
       "       'mkt_unique_carrier_F9', 'mkt_unique_carrier_G4',\n",
       "       'mkt_unique_carrier_HA', 'mkt_unique_carrier_NK',\n",
       "       'mkt_unique_carrier_UA', 'mkt_unique_carrier_VX',\n",
       "       'mkt_unique_carrier_WN', 'month_1', 'month_2', 'month_3', 'month_4',\n",
       "       'month_5', 'month_6', 'month_7', 'month_8', 'month_9', 'month_10',\n",
       "       'month_11', 'month_12'],\n",
       "      dtype='object')"
      ]
     },
     "execution_count": 28,
     "metadata": {},
     "output_type": "execute_result"
    }
   ],
   "source": [
    "df_encoded.columns"
   ]
  },
  {
   "cell_type": "code",
   "execution_count": 35,
   "id": "d3fc3fce-717a-46a6-84e2-ed9072a5a622",
   "metadata": {},
   "outputs": [],
   "source": [
    "test_encoded = pd.get_dummies(data=flights_t, columns=['mkt_unique_carrier','month'] , drop_first=False)"
   ]
  },
  {
   "cell_type": "code",
   "execution_count": 32,
   "id": "3319ac10-c950-4d08-bf17-9fd8313a3ff0",
   "metadata": {},
   "outputs": [
    {
     "data": {
      "text/plain": [
       "3087"
      ]
     },
     "execution_count": 32,
     "metadata": {},
     "output_type": "execute_result"
    }
   ],
   "source": [
    "df_encoded['arr_delay'].isnull().sum()"
   ]
  },
  {
   "cell_type": "code",
   "execution_count": 33,
   "id": "487425b0-3828-416b-a1f7-21ca5c7f8e70",
   "metadata": {},
   "outputs": [],
   "source": [
    "df_encoded = df_encoded.dropna(subset=['arr_delay'])"
   ]
  },
  {
   "cell_type": "code",
   "execution_count": 37,
   "id": "3e92064a-e02f-4633-b87c-b1bf7258ab01",
   "metadata": {},
   "outputs": [
    {
     "data": {
      "text/plain": [
       "Index(['fl_date', 'distance', 'avg_monthly_arr_delay', 'mkt_unique_carrier_AA',\n",
       "       'mkt_unique_carrier_AS', 'mkt_unique_carrier_B6',\n",
       "       'mkt_unique_carrier_DL', 'mkt_unique_carrier_F9',\n",
       "       'mkt_unique_carrier_G4', 'mkt_unique_carrier_HA',\n",
       "       'mkt_unique_carrier_NK', 'mkt_unique_carrier_UA',\n",
       "       'mkt_unique_carrier_WN', 'month_1'],\n",
       "      dtype='object')"
      ]
     },
     "execution_count": 37,
     "metadata": {},
     "output_type": "execute_result"
    }
   ],
   "source": [
    "test_encoded.columns"
   ]
  },
  {
   "cell_type": "code",
   "execution_count": 40,
   "id": "e009bc09-26a4-414f-8313-869322355de2",
   "metadata": {},
   "outputs": [
    {
     "name": "stdout",
     "output_type": "stream",
     "text": [
      "Coefficients: [-1.85659984e-03  9.75977791e-01 -7.18208326e-01 -5.17642874e+00\n",
      "  4.87726007e+00 -4.10733195e+00  5.91921991e+00  3.12206997e+00\n",
      " -5.19253640e+00 -2.31013607e-01  3.53374732e+00 -3.15079460e+00\n",
      " -3.05867032e-01]\n",
      "Intercept: 2.5320018091028795\n",
      "R^2 Score: 0.00846028358015527\n"
     ]
    }
   ],
   "source": [
    "# Linear regression model\n",
    "\n",
    "# Separate the input features (X) and the target variable (y)\n",
    "X = df_encoded[['distance', 'avg_monthly_arr_delay',\n",
    "       'mkt_unique_carrier_AA', 'mkt_unique_carrier_AS',\n",
    "       'mkt_unique_carrier_B6', 'mkt_unique_carrier_DL',\n",
    "       'mkt_unique_carrier_F9', 'mkt_unique_carrier_G4',\n",
    "       'mkt_unique_carrier_HA', 'mkt_unique_carrier_NK',\n",
    "       'mkt_unique_carrier_UA', \n",
    "       'mkt_unique_carrier_WN','month_1']]\n",
    "\n",
    "y = df_encoded['arr_delay']\n",
    "\n",
    "# Split the data into training and testing sets\n",
    "X_train, X_test, y_train, y_test = train_test_split(X, y, test_size=0.2, random_state=42)\n",
    "\n",
    "# Create a linear regression model\n",
    "model = LinearRegression()\n",
    "\n",
    "# Train the model using the training data\n",
    "model.fit(X_train, y_train)\n",
    "\n",
    "# Make predictions on the testing data\n",
    "y_pred = model.predict(X_test)\n",
    "\n",
    "# Evaluate the model\n",
    "score = model.score(X_test, y_test)\n",
    "\n",
    "# Print the coefficient and intercept of the linear regression model\n",
    "print('Coefficients:', model.coef_)\n",
    "print('Intercept:', model.intercept_)\n",
    "print('R^2 Score:', score)"
   ]
  },
  {
   "cell_type": "code",
   "execution_count": 41,
   "id": "09d8a255-0465-481f-83d2-caece60fa8a7",
   "metadata": {},
   "outputs": [],
   "source": [
    "X_new = test_encoded[['distance', 'avg_monthly_arr_delay',\n",
    "                'mkt_unique_carrier_AA', 'mkt_unique_carrier_AS',\n",
    "                'mkt_unique_carrier_B6', 'mkt_unique_carrier_DL',\n",
    "                'mkt_unique_carrier_F9', 'mkt_unique_carrier_G4',\n",
    "                'mkt_unique_carrier_HA', 'mkt_unique_carrier_NK',\n",
    "                'mkt_unique_carrier_UA', \n",
    "                'mkt_unique_carrier_WN', 'month_1']]\n",
    "\n",
    "# Make predictions on the new dataset\n",
    "y_pred_new = model.predict(X_new)"
   ]
  },
  {
   "cell_type": "code",
   "execution_count": 42,
   "id": "4ee792fd-4524-4b30-8dc7-eec12f6faa4c",
   "metadata": {},
   "outputs": [],
   "source": [
    "flights_test['predicted_delays'] = y_pred_new"
   ]
  },
  {
   "cell_type": "code",
   "execution_count": 43,
   "id": "93b855e2-9963-4c8a-b52a-f39fa54445a1",
   "metadata": {},
   "outputs": [
    {
     "data": {
      "text/plain": [
       "Index(['fl_date', 'mkt_unique_carrier', 'branded_code_share', 'mkt_carrier',\n",
       "       'mkt_carrier_fl_num', 'op_unique_carrier', 'tail_num',\n",
       "       'op_carrier_fl_num', 'origin_airport_id', 'origin', 'origin_city_name',\n",
       "       'dest_airport_id', 'dest', 'dest_city_name', 'crs_dep_time',\n",
       "       'crs_arr_time', 'dup', 'crs_elapsed_time', 'flights', 'distance',\n",
       "       'month', 'avg_monthly_arr_delay', 'predicted_delays'],\n",
       "      dtype='object')"
      ]
     },
     "execution_count": 43,
     "metadata": {},
     "output_type": "execute_result"
    }
   ],
   "source": [
    "flights_test.columns"
   ]
  },
  {
   "cell_type": "code",
   "execution_count": 44,
   "id": "45606074-c620-4c9b-ba8f-062b1ef7d1cb",
   "metadata": {},
   "outputs": [
    {
     "data": {
      "text/plain": [
       "0     4.961480\n",
       "1     7.419618\n",
       "2     7.419618\n",
       "3     4.402644\n",
       "4     6.170127\n",
       "5     6.170127\n",
       "6     6.170127\n",
       "7     6.170127\n",
       "8     6.170127\n",
       "9     6.170127\n",
       "10    6.448617\n",
       "11    5.301238\n",
       "12    5.301238\n",
       "13    7.590426\n",
       "14    7.590426\n",
       "15    7.590426\n",
       "16    7.590426\n",
       "17    7.590426\n",
       "18    7.590426\n",
       "19    7.590426\n",
       "Name: predicted_delays, dtype: float64"
      ]
     },
     "execution_count": 44,
     "metadata": {},
     "output_type": "execute_result"
    }
   ],
   "source": [
    "flights_test['predicted_delays'].head(20)"
   ]
  },
  {
   "cell_type": "code",
   "execution_count": 46,
   "id": "cb10c18c-35d4-4a1c-8954-1c8a799532bc",
   "metadata": {},
   "outputs": [],
   "source": [
    "Predicted_delay = flights_test[['fl_date','mkt_carrier','mkt_carrier_fl_num','origin','dest','predicted_delays']].copy()"
   ]
  },
  {
   "cell_type": "code",
   "execution_count": 47,
   "id": "59868507-a298-42ab-9061-42e5c1bbc2c3",
   "metadata": {},
   "outputs": [],
   "source": [
    "Predicted_delay.to_csv('Predicted_delays.csv', index=False)"
   ]
  },
  {
   "cell_type": "code",
   "execution_count": 48,
   "id": "499e7f24-8ef7-4de5-a9b5-e0318f35b7e7",
   "metadata": {},
   "outputs": [],
   "source": [
    "predicted_delay_sample = Predicted_delay.sample(n=100, random_state=42)"
   ]
  },
  {
   "cell_type": "code",
   "execution_count": 49,
   "id": "e819b669-47da-47c9-a9f0-666a24c8c016",
   "metadata": {},
   "outputs": [],
   "source": [
    "predicted_delay_sample.to_csv('predicted_delay_sample.csv', index=False)"
   ]
  },
  {
   "cell_type": "code",
   "execution_count": 51,
   "id": "7d16db02-f2c5-429c-8fe9-38b7c5ddfde2",
   "metadata": {},
   "outputs": [],
   "source": [
    "start_date = '2020-01-01'\n",
    "end_date = '2020-01-07'\n",
    "\n",
    "mask = (Predicted_delay['fl_date'] >= start_date) & (Predicted_delay['fl_date'] <= end_date)\n",
    "random_sample = Predicted_delay.loc[mask].sample(n=100, random_state=42)"
   ]
  },
  {
   "cell_type": "code",
   "execution_count": 52,
   "id": "452ed1f9-fbf4-41e2-9f06-440285723cc2",
   "metadata": {},
   "outputs": [],
   "source": [
    "random_sample.to_csv('prediction_sample.csv', index=False)"
   ]
  },
  {
   "cell_type": "code",
   "execution_count": 53,
   "id": "5ad36c43-2ee5-4196-b771-65b81767d315",
   "metadata": {},
   "outputs": [
    {
     "data": {
      "text/html": [
       "<div>\n",
       "<style scoped>\n",
       "    .dataframe tbody tr th:only-of-type {\n",
       "        vertical-align: middle;\n",
       "    }\n",
       "\n",
       "    .dataframe tbody tr th {\n",
       "        vertical-align: top;\n",
       "    }\n",
       "\n",
       "    .dataframe thead th {\n",
       "        text-align: right;\n",
       "    }\n",
       "</style>\n",
       "<table border=\"1\" class=\"dataframe\">\n",
       "  <thead>\n",
       "    <tr style=\"text-align: right;\">\n",
       "      <th></th>\n",
       "      <th>mkt_carrier_fl_num</th>\n",
       "      <th>predicted_delays</th>\n",
       "    </tr>\n",
       "  </thead>\n",
       "  <tbody>\n",
       "    <tr>\n",
       "      <th>count</th>\n",
       "      <td>67958.000000</td>\n",
       "      <td>67958.000000</td>\n",
       "    </tr>\n",
       "    <tr>\n",
       "      <th>mean</th>\n",
       "      <td>2767.723947</td>\n",
       "      <td>8.825413</td>\n",
       "    </tr>\n",
       "    <tr>\n",
       "      <th>std</th>\n",
       "      <td>1848.512759</td>\n",
       "      <td>3.338904</td>\n",
       "    </tr>\n",
       "    <tr>\n",
       "      <th>min</th>\n",
       "      <td>1.000000</td>\n",
       "      <td>-3.437260</td>\n",
       "    </tr>\n",
       "    <tr>\n",
       "      <th>25%</th>\n",
       "      <td>1162.000000</td>\n",
       "      <td>6.277421</td>\n",
       "    </tr>\n",
       "    <tr>\n",
       "      <th>50%</th>\n",
       "      <td>2378.000000</td>\n",
       "      <td>8.346502</td>\n",
       "    </tr>\n",
       "    <tr>\n",
       "      <th>75%</th>\n",
       "      <td>4468.000000</td>\n",
       "      <td>10.938658</td>\n",
       "    </tr>\n",
       "    <tr>\n",
       "      <th>max</th>\n",
       "      <td>6860.000000</td>\n",
       "      <td>16.695715</td>\n",
       "    </tr>\n",
       "  </tbody>\n",
       "</table>\n",
       "</div>"
      ],
      "text/plain": [
       "       mkt_carrier_fl_num  predicted_delays\n",
       "count        67958.000000      67958.000000\n",
       "mean          2767.723947          8.825413\n",
       "std           1848.512759          3.338904\n",
       "min              1.000000         -3.437260\n",
       "25%           1162.000000          6.277421\n",
       "50%           2378.000000          8.346502\n",
       "75%           4468.000000         10.938658\n",
       "max           6860.000000         16.695715"
      ]
     },
     "execution_count": 53,
     "metadata": {},
     "output_type": "execute_result"
    }
   ],
   "source": [
    "Predicted_delay.describe()"
   ]
  }
 ],
 "metadata": {
  "kernelspec": {
   "display_name": "Python 3 (ipykernel)",
   "language": "python",
   "name": "python3"
  },
  "language_info": {
   "codemirror_mode": {
    "name": "ipython",
    "version": 3
   },
   "file_extension": ".py",
   "mimetype": "text/x-python",
   "name": "python",
   "nbconvert_exporter": "python",
   "pygments_lexer": "ipython3",
   "version": "3.10.9"
  }
 },
 "nbformat": 4,
 "nbformat_minor": 5
}
