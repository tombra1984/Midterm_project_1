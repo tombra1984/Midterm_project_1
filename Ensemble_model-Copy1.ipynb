{
 "cells": [
  {
   "cell_type": "code",
   "execution_count": 58,
   "id": "b8236b10-d17c-4383-98e0-0f16a1b9219e",
   "metadata": {},
   "outputs": [],
   "source": [
    "## In this notebook we will create a lot more numerical continuous features that relate to arr_delay\n",
    "## We will analyze this to see if we achieve a better result"
   ]
  },
  {
   "cell_type": "code",
   "execution_count": 1,
   "id": "07d74e32-600c-46d9-b4b5-3037ccfc8037",
   "metadata": {},
   "outputs": [],
   "source": [
    "import pandas as pd\n",
    "import seaborn as sns\n",
    "import matplotlib.pyplot as plt\n",
    "import requests\n",
    "import scipy.stats as stats\n",
    "import numpy as np\n",
    "\n",
    "import plotly.express as px\n",
    "import plotly.graph_objs as go\n",
    "from sklearn.preprocessing import MinMaxScaler\n",
    "\n",
    "from sklearn.preprocessing import MinMaxScaler, OneHotEncoder, LabelEncoder, StandardScaler\n",
    "from sklearn.cluster import KMeans\n",
    "from sklearn.decomposition import PCA\n",
    "from sklearn.metrics import silhouette_score\n",
    "from sklearn.linear_model import LogisticRegression\n",
    "from sklearn.model_selection import StratifiedKFold\n"
   ]
  },
  {
   "cell_type": "code",
   "execution_count": 2,
   "id": "4f840ffd-d767-475e-8e6d-21d6dc37ff21",
   "metadata": {},
   "outputs": [],
   "source": [
    "from sklearn.linear_model import LinearRegression\n",
    "from sklearn.model_selection import train_test_split\n",
    "from sklearn.ensemble import RandomForestRegressor\n",
    "from sklearn.metrics import mean_squared_error, r2_score\n",
    "from sklearn.linear_model import LogisticRegression\n",
    "from sklearn.model_selection import StratifiedKFold\n",
    "from sklearn.model_selection import KFold"
   ]
  },
  {
   "cell_type": "code",
   "execution_count": 3,
   "id": "92fd4bbe-719e-47ab-b820-68db8a62e3e1",
   "metadata": {},
   "outputs": [
    {
     "data": {
      "text/html": [
       "<div>\n",
       "<style scoped>\n",
       "    .dataframe tbody tr th:only-of-type {\n",
       "        vertical-align: middle;\n",
       "    }\n",
       "\n",
       "    .dataframe tbody tr th {\n",
       "        vertical-align: top;\n",
       "    }\n",
       "\n",
       "    .dataframe thead th {\n",
       "        text-align: right;\n",
       "    }\n",
       "</style>\n",
       "<table border=\"1\" class=\"dataframe\">\n",
       "  <thead>\n",
       "    <tr style=\"text-align: right;\">\n",
       "      <th></th>\n",
       "      <th>fl_date</th>\n",
       "      <th>mkt_unique_carrier</th>\n",
       "      <th>branded_code_share</th>\n",
       "      <th>mkt_carrier</th>\n",
       "      <th>mkt_carrier_fl_num</th>\n",
       "      <th>op_unique_carrier</th>\n",
       "      <th>tail_num</th>\n",
       "      <th>op_carrier_fl_num</th>\n",
       "      <th>origin_airport_id</th>\n",
       "      <th>origin</th>\n",
       "      <th>...</th>\n",
       "      <th>first_dep_time</th>\n",
       "      <th>total_add_gtime</th>\n",
       "      <th>longest_add_gtime</th>\n",
       "      <th>no_name</th>\n",
       "      <th>month</th>\n",
       "      <th>dep_hour</th>\n",
       "      <th>arr_hour</th>\n",
       "      <th>taxi_time</th>\n",
       "      <th>origin_state</th>\n",
       "      <th>flight_distance_category</th>\n",
       "    </tr>\n",
       "  </thead>\n",
       "  <tbody>\n",
       "    <tr>\n",
       "      <th>0</th>\n",
       "      <td>2018-01-01</td>\n",
       "      <td>B6</td>\n",
       "      <td>B6</td>\n",
       "      <td>B6</td>\n",
       "      <td>880</td>\n",
       "      <td>B6</td>\n",
       "      <td>N794JB</td>\n",
       "      <td>880</td>\n",
       "      <td>12954</td>\n",
       "      <td>LGB</td>\n",
       "      <td>...</td>\n",
       "      <td>NaN</td>\n",
       "      <td>NaN</td>\n",
       "      <td>NaN</td>\n",
       "      <td>NaN</td>\n",
       "      <td>1</td>\n",
       "      <td>7</td>\n",
       "      <td>8</td>\n",
       "      <td>83.0</td>\n",
       "      <td>CA</td>\n",
       "      <td>SHORT</td>\n",
       "    </tr>\n",
       "    <tr>\n",
       "      <th>1</th>\n",
       "      <td>2018-01-01</td>\n",
       "      <td>B6</td>\n",
       "      <td>B6</td>\n",
       "      <td>B6</td>\n",
       "      <td>885</td>\n",
       "      <td>B6</td>\n",
       "      <td>N337JB</td>\n",
       "      <td>885</td>\n",
       "      <td>12478</td>\n",
       "      <td>JFK</td>\n",
       "      <td>...</td>\n",
       "      <td>NaN</td>\n",
       "      <td>NaN</td>\n",
       "      <td>NaN</td>\n",
       "      <td>NaN</td>\n",
       "      <td>1</td>\n",
       "      <td>7</td>\n",
       "      <td>9</td>\n",
       "      <td>120.0</td>\n",
       "      <td>NY</td>\n",
       "      <td>SHORT</td>\n",
       "    </tr>\n",
       "    <tr>\n",
       "      <th>2</th>\n",
       "      <td>2018-01-01</td>\n",
       "      <td>B6</td>\n",
       "      <td>B6</td>\n",
       "      <td>B6</td>\n",
       "      <td>886</td>\n",
       "      <td>B6</td>\n",
       "      <td>N337JB</td>\n",
       "      <td>886</td>\n",
       "      <td>14492</td>\n",
       "      <td>RDU</td>\n",
       "      <td>...</td>\n",
       "      <td>NaN</td>\n",
       "      <td>NaN</td>\n",
       "      <td>NaN</td>\n",
       "      <td>NaN</td>\n",
       "      <td>1</td>\n",
       "      <td>10</td>\n",
       "      <td>11</td>\n",
       "      <td>102.0</td>\n",
       "      <td>NC</td>\n",
       "      <td>SHORT</td>\n",
       "    </tr>\n",
       "    <tr>\n",
       "      <th>3</th>\n",
       "      <td>2018-01-01</td>\n",
       "      <td>B6</td>\n",
       "      <td>B6</td>\n",
       "      <td>B6</td>\n",
       "      <td>889</td>\n",
       "      <td>B6</td>\n",
       "      <td>N318JB</td>\n",
       "      <td>889</td>\n",
       "      <td>11278</td>\n",
       "      <td>DCA</td>\n",
       "      <td>...</td>\n",
       "      <td>NaN</td>\n",
       "      <td>NaN</td>\n",
       "      <td>NaN</td>\n",
       "      <td>NaN</td>\n",
       "      <td>1</td>\n",
       "      <td>18</td>\n",
       "      <td>19</td>\n",
       "      <td>162.0</td>\n",
       "      <td>DC</td>\n",
       "      <td>SHORT</td>\n",
       "    </tr>\n",
       "    <tr>\n",
       "      <th>4</th>\n",
       "      <td>2018-01-01</td>\n",
       "      <td>B6</td>\n",
       "      <td>B6</td>\n",
       "      <td>B6</td>\n",
       "      <td>891</td>\n",
       "      <td>B6</td>\n",
       "      <td>N348JB</td>\n",
       "      <td>891</td>\n",
       "      <td>10721</td>\n",
       "      <td>BOS</td>\n",
       "      <td>...</td>\n",
       "      <td>NaN</td>\n",
       "      <td>NaN</td>\n",
       "      <td>NaN</td>\n",
       "      <td>NaN</td>\n",
       "      <td>1</td>\n",
       "      <td>6</td>\n",
       "      <td>9</td>\n",
       "      <td>317.0</td>\n",
       "      <td>MA</td>\n",
       "      <td>MEDIUM</td>\n",
       "    </tr>\n",
       "  </tbody>\n",
       "</table>\n",
       "<p>5 rows × 48 columns</p>\n",
       "</div>"
      ],
      "text/plain": [
       "      fl_date mkt_unique_carrier branded_code_share mkt_carrier  \\\n",
       "0  2018-01-01                 B6                 B6          B6   \n",
       "1  2018-01-01                 B6                 B6          B6   \n",
       "2  2018-01-01                 B6                 B6          B6   \n",
       "3  2018-01-01                 B6                 B6          B6   \n",
       "4  2018-01-01                 B6                 B6          B6   \n",
       "\n",
       "   mkt_carrier_fl_num op_unique_carrier tail_num  op_carrier_fl_num  \\\n",
       "0                 880                B6   N794JB                880   \n",
       "1                 885                B6   N337JB                885   \n",
       "2                 886                B6   N337JB                886   \n",
       "3                 889                B6   N318JB                889   \n",
       "4                 891                B6   N348JB                891   \n",
       "\n",
       "   origin_airport_id origin  ... first_dep_time  total_add_gtime  \\\n",
       "0              12954    LGB  ...            NaN              NaN   \n",
       "1              12478    JFK  ...            NaN              NaN   \n",
       "2              14492    RDU  ...            NaN              NaN   \n",
       "3              11278    DCA  ...            NaN              NaN   \n",
       "4              10721    BOS  ...            NaN              NaN   \n",
       "\n",
       "  longest_add_gtime no_name  month  dep_hour  arr_hour  taxi_time  \\\n",
       "0               NaN     NaN      1         7         8       83.0   \n",
       "1               NaN     NaN      1         7         9      120.0   \n",
       "2               NaN     NaN      1        10        11      102.0   \n",
       "3               NaN     NaN      1        18        19      162.0   \n",
       "4               NaN     NaN      1         6         9      317.0   \n",
       "\n",
       "   origin_state  flight_distance_category  \n",
       "0            CA                     SHORT  \n",
       "1            NY                     SHORT  \n",
       "2            NC                     SHORT  \n",
       "3            DC                     SHORT  \n",
       "4            MA                    MEDIUM  \n",
       "\n",
       "[5 rows x 48 columns]"
      ]
     },
     "execution_count": 3,
     "metadata": {},
     "output_type": "execute_result"
    }
   ],
   "source": [
    "# Imported this dataframe that was created in our EDA notebook\n",
    "flights_df = pd.read_csv(\"/Users/ckz/Desktop/DATA_SCIENCE_BOOTCAMP/Midterm-project/flights_df.csv\")\n",
    "\n",
    "# print the first few rows of the DataFrame\n",
    "flights_df.head()"
   ]
  },
  {
   "cell_type": "code",
   "execution_count": 4,
   "id": "3c58596f-f82d-4bb5-81ef-68cb31e5cad0",
   "metadata": {},
   "outputs": [],
   "source": [
    "flights_df.loc[flights_df['arr_delay'] < 0, 'arr_delay'] = 0"
   ]
  },
  {
   "cell_type": "code",
   "execution_count": 5,
   "id": "372e61b8-000c-49c4-af7d-ba5b6abf7c4a",
   "metadata": {},
   "outputs": [],
   "source": [
    "flights_df['avg_monthly_arr_delay'] = flights_df.groupby('month')['arr_delay'].transform('mean')"
   ]
  },
  {
   "cell_type": "code",
   "execution_count": 6,
   "id": "d6ae5cb7-959a-4dcc-bc6a-35a1d78a495c",
   "metadata": {},
   "outputs": [],
   "source": [
    "# This feature creates the avg taxi times for the arrival hour \n",
    "flights_df['avg_taxi_times_arr'] = flights_df.groupby('arr_hour')['taxi_time'].transform('mean')"
   ]
  },
  {
   "cell_type": "code",
   "execution_count": 7,
   "id": "4f269553-28d1-4462-8f17-16c2e17b2737",
   "metadata": {},
   "outputs": [],
   "source": [
    "# Group the flights data by origin airport and count the number of flights for each airport\n",
    "airport_counts = flights_df.groupby('origin')['flights'].transform('count')\n",
    "\n",
    "# Determine the thresholds for each category based on the quartiles\n",
    "thresholds = [0, airport_counts.quantile(0.25), airport_counts.quantile(0.5), airport_counts.quantile(0.75), np.inf]\n",
    "\n",
    "# Define the categories\n",
    "categories = ['Not Busy', 'Moderate', 'Busy', 'Very Busy']\n",
    "\n",
    "# Assign the traffic category based on the number of flights from each airport\n",
    "flights_df['traffic'] = pd.cut(airport_counts, bins=thresholds, labels=categories, right=False)"
   ]
  },
  {
   "cell_type": "code",
   "execution_count": 8,
   "id": "70fdbaa0-5a5d-45d2-a0dc-60b90cfe7b2b",
   "metadata": {},
   "outputs": [],
   "source": [
    "from pandas.tseries.holiday import USFederalHolidayCalendar as holiday_calendar\n",
    "from datetime import datetime"
   ]
  },
  {
   "cell_type": "code",
   "execution_count": 9,
   "id": "7802445b-2eeb-4b2d-934a-5e736ce4da51",
   "metadata": {},
   "outputs": [],
   "source": [
    "flights_df['fl_date'] = flights_df['fl_date'].apply(lambda x: datetime.strptime(x, '%Y-%m-%d'))"
   ]
  },
  {
   "cell_type": "code",
   "execution_count": 10,
   "id": "3de12630-241c-436d-b04c-71f5c2349f81",
   "metadata": {},
   "outputs": [
    {
     "data": {
      "text/html": [
       "<div>\n",
       "<style scoped>\n",
       "    .dataframe tbody tr th:only-of-type {\n",
       "        vertical-align: middle;\n",
       "    }\n",
       "\n",
       "    .dataframe tbody tr th {\n",
       "        vertical-align: top;\n",
       "    }\n",
       "\n",
       "    .dataframe thead th {\n",
       "        text-align: right;\n",
       "    }\n",
       "</style>\n",
       "<table border=\"1\" class=\"dataframe\">\n",
       "  <thead>\n",
       "    <tr style=\"text-align: right;\">\n",
       "      <th></th>\n",
       "      <th>fl_date</th>\n",
       "      <th>mkt_unique_carrier</th>\n",
       "      <th>branded_code_share</th>\n",
       "      <th>mkt_carrier</th>\n",
       "      <th>mkt_carrier_fl_num</th>\n",
       "      <th>op_unique_carrier</th>\n",
       "      <th>tail_num</th>\n",
       "      <th>op_carrier_fl_num</th>\n",
       "      <th>origin_airport_id</th>\n",
       "      <th>origin</th>\n",
       "      <th>...</th>\n",
       "      <th>month</th>\n",
       "      <th>dep_hour</th>\n",
       "      <th>arr_hour</th>\n",
       "      <th>taxi_time</th>\n",
       "      <th>origin_state</th>\n",
       "      <th>flight_distance_category</th>\n",
       "      <th>avg_monthly_arr_delay</th>\n",
       "      <th>avg_taxi_times_arr</th>\n",
       "      <th>traffic</th>\n",
       "      <th>holiday</th>\n",
       "    </tr>\n",
       "  </thead>\n",
       "  <tbody>\n",
       "    <tr>\n",
       "      <th>1559040</th>\n",
       "      <td>2019-07-31</td>\n",
       "      <td>DL</td>\n",
       "      <td>DL</td>\n",
       "      <td>DL</td>\n",
       "      <td>2899</td>\n",
       "      <td>DL</td>\n",
       "      <td>N932AT</td>\n",
       "      <td>2899</td>\n",
       "      <td>10397</td>\n",
       "      <td>ATL</td>\n",
       "      <td>...</td>\n",
       "      <td>7</td>\n",
       "      <td>15</td>\n",
       "      <td>17</td>\n",
       "      <td>114.0</td>\n",
       "      <td>GA</td>\n",
       "      <td>SHORT</td>\n",
       "      <td>17.060485</td>\n",
       "      <td>177.955554</td>\n",
       "      <td>Very Busy</td>\n",
       "      <td>0</td>\n",
       "    </tr>\n",
       "    <tr>\n",
       "      <th>1559041</th>\n",
       "      <td>2019-07-31</td>\n",
       "      <td>DL</td>\n",
       "      <td>DL</td>\n",
       "      <td>DL</td>\n",
       "      <td>2899</td>\n",
       "      <td>DL</td>\n",
       "      <td>N932AT</td>\n",
       "      <td>2899</td>\n",
       "      <td>11057</td>\n",
       "      <td>CLT</td>\n",
       "      <td>...</td>\n",
       "      <td>7</td>\n",
       "      <td>17</td>\n",
       "      <td>18</td>\n",
       "      <td>83.0</td>\n",
       "      <td>NC</td>\n",
       "      <td>SHORT</td>\n",
       "      <td>17.060485</td>\n",
       "      <td>170.038468</td>\n",
       "      <td>Very Busy</td>\n",
       "      <td>0</td>\n",
       "    </tr>\n",
       "    <tr>\n",
       "      <th>1559042</th>\n",
       "      <td>2019-07-31</td>\n",
       "      <td>DL</td>\n",
       "      <td>DL</td>\n",
       "      <td>DL</td>\n",
       "      <td>2900</td>\n",
       "      <td>DL</td>\n",
       "      <td>N301DQ</td>\n",
       "      <td>2900</td>\n",
       "      <td>10397</td>\n",
       "      <td>ATL</td>\n",
       "      <td>...</td>\n",
       "      <td>7</td>\n",
       "      <td>12</td>\n",
       "      <td>14</td>\n",
       "      <td>175.0</td>\n",
       "      <td>GA</td>\n",
       "      <td>MEDIUM</td>\n",
       "      <td>17.060485</td>\n",
       "      <td>178.305499</td>\n",
       "      <td>Very Busy</td>\n",
       "      <td>0</td>\n",
       "    </tr>\n",
       "    <tr>\n",
       "      <th>1559043</th>\n",
       "      <td>2019-07-31</td>\n",
       "      <td>DL</td>\n",
       "      <td>DL</td>\n",
       "      <td>DL</td>\n",
       "      <td>2900</td>\n",
       "      <td>DL</td>\n",
       "      <td>N301DQ</td>\n",
       "      <td>2900</td>\n",
       "      <td>11624</td>\n",
       "      <td>EYW</td>\n",
       "      <td>...</td>\n",
       "      <td>7</td>\n",
       "      <td>15</td>\n",
       "      <td>17</td>\n",
       "      <td>126.0</td>\n",
       "      <td>FL</td>\n",
       "      <td>MEDIUM</td>\n",
       "      <td>17.060485</td>\n",
       "      <td>177.955554</td>\n",
       "      <td>Not Busy</td>\n",
       "      <td>0</td>\n",
       "    </tr>\n",
       "    <tr>\n",
       "      <th>1559044</th>\n",
       "      <td>2019-07-31</td>\n",
       "      <td>DL</td>\n",
       "      <td>DL</td>\n",
       "      <td>DL</td>\n",
       "      <td>2901</td>\n",
       "      <td>DL</td>\n",
       "      <td>N397DA</td>\n",
       "      <td>2901</td>\n",
       "      <td>11292</td>\n",
       "      <td>DEN</td>\n",
       "      <td>...</td>\n",
       "      <td>7</td>\n",
       "      <td>7</td>\n",
       "      <td>9</td>\n",
       "      <td>159.0</td>\n",
       "      <td>CO</td>\n",
       "      <td>SHORT</td>\n",
       "      <td>17.060485</td>\n",
       "      <td>146.300733</td>\n",
       "      <td>Very Busy</td>\n",
       "      <td>0</td>\n",
       "    </tr>\n",
       "  </tbody>\n",
       "</table>\n",
       "<p>5 rows × 52 columns</p>\n",
       "</div>"
      ],
      "text/plain": [
       "           fl_date mkt_unique_carrier branded_code_share mkt_carrier  \\\n",
       "1559040 2019-07-31                 DL                 DL          DL   \n",
       "1559041 2019-07-31                 DL                 DL          DL   \n",
       "1559042 2019-07-31                 DL                 DL          DL   \n",
       "1559043 2019-07-31                 DL                 DL          DL   \n",
       "1559044 2019-07-31                 DL                 DL          DL   \n",
       "\n",
       "         mkt_carrier_fl_num op_unique_carrier tail_num  op_carrier_fl_num  \\\n",
       "1559040                2899                DL   N932AT               2899   \n",
       "1559041                2899                DL   N932AT               2899   \n",
       "1559042                2900                DL   N301DQ               2900   \n",
       "1559043                2900                DL   N301DQ               2900   \n",
       "1559044                2901                DL   N397DA               2901   \n",
       "\n",
       "         origin_airport_id origin  ... month  dep_hour arr_hour taxi_time  \\\n",
       "1559040              10397    ATL  ...     7        15       17     114.0   \n",
       "1559041              11057    CLT  ...     7        17       18      83.0   \n",
       "1559042              10397    ATL  ...     7        12       14     175.0   \n",
       "1559043              11624    EYW  ...     7        15       17     126.0   \n",
       "1559044              11292    DEN  ...     7         7        9     159.0   \n",
       "\n",
       "         origin_state  flight_distance_category  avg_monthly_arr_delay  \\\n",
       "1559040            GA                     SHORT              17.060485   \n",
       "1559041            NC                     SHORT              17.060485   \n",
       "1559042            GA                    MEDIUM              17.060485   \n",
       "1559043            FL                    MEDIUM              17.060485   \n",
       "1559044            CO                     SHORT              17.060485   \n",
       "\n",
       "         avg_taxi_times_arr    traffic  holiday  \n",
       "1559040          177.955554  Very Busy        0  \n",
       "1559041          170.038468  Very Busy        0  \n",
       "1559042          178.305499  Very Busy        0  \n",
       "1559043          177.955554   Not Busy        0  \n",
       "1559044          146.300733  Very Busy        0  \n",
       "\n",
       "[5 rows x 52 columns]"
      ]
     },
     "execution_count": 10,
     "metadata": {},
     "output_type": "execute_result"
    }
   ],
   "source": [
    "# holiday_cal\n",
    "cal = holiday_calendar()\n",
    "dr = flights_df['fl_date'] \n",
    "holidays = cal.holidays(start=dr.min(), end=dr.max())\n",
    "flights_df['holiday'] = flights_df['fl_date'].dt.date.astype('datetime64').isin(holidays).astype(int)\n",
    "flights_df.tail(5)"
   ]
  },
  {
   "cell_type": "code",
   "execution_count": 11,
   "id": "4333f835-2c7f-497b-aea5-75b405481000",
   "metadata": {},
   "outputs": [
    {
     "data": {
      "text/plain": [
       "Index(['fl_date', 'mkt_unique_carrier', 'branded_code_share', 'mkt_carrier',\n",
       "       'mkt_carrier_fl_num', 'op_unique_carrier', 'tail_num',\n",
       "       'op_carrier_fl_num', 'origin_airport_id', 'origin', 'origin_city_name',\n",
       "       'dest_airport_id', 'dest', 'dest_city_name', 'crs_dep_time', 'dep_time',\n",
       "       'dep_delay', 'taxi_out', 'wheels_off', 'wheels_on', 'taxi_in',\n",
       "       'crs_arr_time', 'arr_time', 'arr_delay', 'cancelled',\n",
       "       'cancellation_code', 'diverted', 'dup', 'crs_elapsed_time',\n",
       "       'actual_elapsed_time', 'air_time', 'flights', 'distance',\n",
       "       'carrier_delay', 'weather_delay', 'nas_delay', 'security_delay',\n",
       "       'late_aircraft_delay', 'first_dep_time', 'total_add_gtime',\n",
       "       'longest_add_gtime', 'no_name', 'month', 'dep_hour', 'arr_hour',\n",
       "       'taxi_time', 'origin_state', 'flight_distance_category',\n",
       "       'avg_monthly_arr_delay', 'avg_taxi_times_arr', 'traffic', 'holiday'],\n",
       "      dtype='object')"
      ]
     },
     "execution_count": 11,
     "metadata": {},
     "output_type": "execute_result"
    }
   ],
   "source": [
    "flights_df.columns"
   ]
  },
  {
   "cell_type": "code",
   "execution_count": 12,
   "id": "a7fa7082-b7f8-46d2-9e41-580ebc6d6835",
   "metadata": {},
   "outputs": [],
   "source": [
    "flights_df['fl_date'] = pd.to_datetime(flights_df['fl_date'])\n",
    "\n",
    "flights_df['day_of_week'] = flights_df['fl_date'].dt.dayofweek\n",
    "\n",
    "day_mapping = {0: 'Monday', 1: 'Tuesday', 2: 'Wednesday', 3: 'Thursday', 4: 'Friday', 5: 'Saturday', 6: 'Sunday'}\n",
    "flights_df['day_of_week'] = flights_df['day_of_week'].map(day_mapping)"
   ]
  },
  {
   "cell_type": "code",
   "execution_count": 13,
   "id": "3ba7dd15-a18b-44cd-9776-dd05ee291ce3",
   "metadata": {},
   "outputs": [],
   "source": [
    "flights_df['avg_hourly_arr_delay'] = flights_df.groupby('arr_hour')['arr_delay'].transform('mean')"
   ]
  },
  {
   "cell_type": "code",
   "execution_count": 14,
   "id": "4dac2b1e-8929-43e9-9af3-225f1595456b",
   "metadata": {},
   "outputs": [],
   "source": [
    "flights_df['avg_mktcarrier_arr_delay'] = flights_df.groupby('mkt_unique_carrier')['arr_delay'].transform('mean')"
   ]
  },
  {
   "cell_type": "code",
   "execution_count": 15,
   "id": "3b216ac3-8f62-4948-91a4-20e818c7bb8e",
   "metadata": {},
   "outputs": [],
   "source": [
    "flights_df['avg_airport_arr_delay'] = flights_df.groupby('origin_airport_id')['arr_delay'].transform('mean')"
   ]
  },
  {
   "cell_type": "code",
   "execution_count": 16,
   "id": "7a83dda6-7d9f-453d-af73-4a223a3861a4",
   "metadata": {},
   "outputs": [],
   "source": [
    "flights_df['avg_plane_arr_delay'] = flights_df.groupby('tail_num')['arr_delay'].transform('mean')"
   ]
  },
  {
   "cell_type": "code",
   "execution_count": 17,
   "id": "2c2950d2-3ffb-4329-b2a6-90e3c05fc6bf",
   "metadata": {},
   "outputs": [],
   "source": [
    "flights_df['avg_destcity_arr_delay'] = flights_df.groupby('dest_city_name')['arr_delay'].transform('mean')"
   ]
  },
  {
   "cell_type": "code",
   "execution_count": 18,
   "id": "6dd08a83-131d-4bfd-bdd4-d393fa8da46f",
   "metadata": {},
   "outputs": [],
   "source": [
    "flights_df['avg_state_arr_delay'] = flights_df.groupby('origin_state')['arr_delay'].transform('mean')"
   ]
  },
  {
   "cell_type": "code",
   "execution_count": 19,
   "id": "c42e8f56-2a02-42cd-b699-13bf6df6ecad",
   "metadata": {},
   "outputs": [],
   "source": [
    "flights_df['avg_dow_arr_delay'] = flights_df.groupby('day_of_week')['arr_delay'].transform('mean')"
   ]
  },
  {
   "cell_type": "code",
   "execution_count": 20,
   "id": "91211765-be7e-4b2a-9414-c4321f28b6f3",
   "metadata": {},
   "outputs": [],
   "source": [
    "flights_df['avg_dow_arr_delay'] = flights_df.groupby('day_of_week')['arr_delay'].transform('mean')"
   ]
  },
  {
   "cell_type": "code",
   "execution_count": 21,
   "id": "24b98a92-6ecc-4ab1-8723-d9ea960f2b60",
   "metadata": {},
   "outputs": [],
   "source": [
    "# # Shuffle the data in the DataFrame and create a sample with half the size\n",
    "sample_size = len(flights_df) // 10\n",
    "\n",
    "flights_df_sample = flights_df.sample(n=sample_size, random_state=42)\n",
    "\n",
    "## Reset the index of the shuffled sample\n",
    "\n",
    "flights_df_sample.reset_index(drop=True, inplace=True)"
   ]
  },
  {
   "cell_type": "code",
   "execution_count": 22,
   "id": "53cbbe85-0ed5-44b5-bc15-6fe6a668f3ee",
   "metadata": {},
   "outputs": [
    {
     "data": {
      "text/plain": [
       "Index(['fl_date', 'mkt_unique_carrier', 'branded_code_share', 'mkt_carrier',\n",
       "       'mkt_carrier_fl_num', 'op_unique_carrier', 'tail_num',\n",
       "       'op_carrier_fl_num', 'origin_airport_id', 'origin', 'origin_city_name',\n",
       "       'dest_airport_id', 'dest', 'dest_city_name', 'crs_dep_time', 'dep_time',\n",
       "       'dep_delay', 'taxi_out', 'wheels_off', 'wheels_on', 'taxi_in',\n",
       "       'crs_arr_time', 'arr_time', 'arr_delay', 'cancelled',\n",
       "       'cancellation_code', 'diverted', 'dup', 'crs_elapsed_time',\n",
       "       'actual_elapsed_time', 'air_time', 'flights', 'distance',\n",
       "       'carrier_delay', 'weather_delay', 'nas_delay', 'security_delay',\n",
       "       'late_aircraft_delay', 'first_dep_time', 'total_add_gtime',\n",
       "       'longest_add_gtime', 'no_name', 'month', 'dep_hour', 'arr_hour',\n",
       "       'taxi_time', 'origin_state', 'flight_distance_category',\n",
       "       'avg_monthly_arr_delay', 'avg_taxi_times_arr', 'traffic', 'holiday',\n",
       "       'day_of_week', 'avg_hourly_arr_delay', 'avg_mktcarrier_arr_delay',\n",
       "       'avg_airport_arr_delay', 'avg_plane_arr_delay',\n",
       "       'avg_destcity_arr_delay', 'avg_state_arr_delay', 'avg_dow_arr_delay'],\n",
       "      dtype='object')"
      ]
     },
     "execution_count": 22,
     "metadata": {},
     "output_type": "execute_result"
    }
   ],
   "source": [
    "flights_df_sample.columns"
   ]
  },
  {
   "cell_type": "code",
   "execution_count": 23,
   "id": "59ff96b5-9ba7-4cc1-90b4-f66ff8405a05",
   "metadata": {},
   "outputs": [],
   "source": [
    "flights_df_sample = flights_df_sample[['fl_date','mkt_unique_carrier','arr_delay',\n",
    "        'cancelled', 'diverted',\n",
    "        'air_time','distance',\n",
    "        'month', 'dep_hour', 'arr_hour',\n",
    "       'origin_state', 'flight_distance_category',\n",
    "       'avg_monthly_arr_delay', 'avg_taxi_times_arr', 'traffic', 'holiday','avg_hourly_arr_delay', 'avg_mktcarrier_arr_delay',\n",
    "       'avg_airport_arr_delay', 'avg_plane_arr_delay',\n",
    "       'avg_destcity_arr_delay', 'avg_state_arr_delay','day_of_week','avg_dow_arr_delay']]"
   ]
  },
  {
   "cell_type": "code",
   "execution_count": 24,
   "id": "3fdd784c-2b74-4cc2-985d-cce0c09e610b",
   "metadata": {},
   "outputs": [],
   "source": [
    "flights_df_sample.loc[flights_df_sample['arr_delay'] < 0, 'arr_delay'] = 0"
   ]
  },
  {
   "cell_type": "code",
   "execution_count": 25,
   "id": "3478d539-3d4e-4fe6-a825-b8120785e138",
   "metadata": {},
   "outputs": [],
   "source": [
    "numerical_columns = ['air_time','distance','avg_taxi_times_arr','avg_hourly_arr_delay', 'avg_mktcarrier_arr_delay', 'avg_airport_arr_delay', 'avg_plane_arr_delay', 'avg_destcity_arr_delay', 'avg_state_arr_delay','avg_dow_arr_delay']\n",
    "                    \n",
    "categorical_columns = ['mkt_unique_carrier','diverted','month','dep_hour','arr_hour','origin_state','flight_distance_category','traffic','holiday','day_of_week']\n",
    "\n",
    "\n"
   ]
  },
  {
   "cell_type": "code",
   "execution_count": 26,
   "id": "a42abebb-16ff-4a1a-b722-9e4a9137a12b",
   "metadata": {},
   "outputs": [],
   "source": [
    "df_encoded = pd.get_dummies(data=flights_df_sample, columns= categorical_columns , drop_first=False)"
   ]
  },
  {
   "cell_type": "code",
   "execution_count": 27,
   "id": "39378076-7324-4d4f-9b75-b4e2d9279339",
   "metadata": {},
   "outputs": [],
   "source": [
    "df_encoded = df_encoded.drop(['fl_date'], axis=1)"
   ]
  },
  {
   "cell_type": "code",
   "execution_count": 28,
   "id": "999d4c1a-ac36-48de-81d0-819bab3feffe",
   "metadata": {},
   "outputs": [],
   "source": [
    "df_encoded = df_encoded.drop(['arr_delay'], axis=1)"
   ]
  },
  {
   "cell_type": "code",
   "execution_count": 29,
   "id": "821db9f9-5845-45fe-a76b-d4dc2f951319",
   "metadata": {},
   "outputs": [
    {
     "name": "stdout",
     "output_type": "stream",
     "text": [
      "Coefficients: [ 1.17105266e-15  3.10613990e-01 -3.69623129e-02  1.00295533e+00\n",
      "  7.35975866e-04  3.93306621e-01 -2.09806846e-01  7.21453427e-01\n",
      "  9.92221480e-01  8.79078746e-01 -4.79473428e-01  6.06687550e-01\n",
      " -7.36643029e-01 -1.72666411e+00 -1.22807709e+00  1.79111280e+00\n",
      "  1.28205987e+00 -6.78391263e-01 -1.22913731e+00  5.56804612e-01\n",
      " -2.37714846e+00  3.48556319e+00  8.60520803e-01 -2.59792188e-14\n",
      " -4.34080637e-01 -1.04116834e+00  9.43397999e-02  6.54508857e-01\n",
      " -2.51789717e-01  6.60813958e-01  6.89860413e-02  3.78815414e-01\n",
      "  2.17542446e-01 -3.82801419e-02 -1.39536348e-01 -1.70151334e-01\n",
      "  4.85019002e-01 -4.42799797e+00  5.78928604e+00 -5.79731663e+00\n",
      " -3.89181109e+00 -4.40233985e+00 -3.38815098e+00 -2.60857267e+00\n",
      "  9.35416593e-02  1.11401152e-01  8.12660507e-01  4.19587677e-01\n",
      "  4.17543872e-01  8.46684513e-01  2.46778500e-01 -2.76893753e-01\n",
      "  6.40359775e-01  1.92710915e+00  1.26243189e+00  1.31293168e+00\n",
      "  2.28320558e+00 -1.98195876e-01  4.67405360e-01  7.87533247e+00\n",
      "  3.13909239e+00  3.41480374e+00 -3.87102859e+00 -1.83247918e+01\n",
      "  2.47513273e+00 -3.33207791e-01  1.90348306e+00  2.60855548e-01\n",
      "  3.45432056e-01 -2.96259677e-01 -1.68671407e+00 -1.93556195e+00\n",
      " -2.09400349e+00 -1.26195849e+00 -1.10251326e+00  8.65180375e-01\n",
      "  1.60996356e+00  1.54310312e+00  1.85082657e+00  2.63140124e+00\n",
      "  3.02606811e+00  2.24981274e+00  2.18668583e+00  3.40419804e+00\n",
      "  5.79654295e+00  7.42665217e-01  2.74224933e+00  4.19978630e-01\n",
      "  1.53930921e+00  1.45456474e+00  2.09571755e+00 -1.55667147e+00\n",
      " -4.99993971e-01 -2.80241199e+00  9.41650152e+00  1.02763600e+00\n",
      " -1.56082339e+00  1.13934858e+00 -1.98333502e+00  6.14174249e+00\n",
      " -1.51539839e+00 -2.08693814e+00 -4.47469154e+00 -1.18087985e+00\n",
      " -2.43991162e+00 -1.40367970e+00 -4.37697676e+00 -1.43062262e-01\n",
      "  1.21033896e+00 -2.07040030e+00 -5.73709633e-01  2.59967210e+00\n",
      " -8.74000052e-01 -3.35277040e-02  7.30281605e-01  4.23717428e+00\n",
      "  2.90486959e+00 -2.60742818e+00 -8.85808411e-02 -1.76549850e+00\n",
      "  1.25381698e+00 -2.51359559e+00 -5.41233658e+00 -3.77284221e+00\n",
      " -7.10069154e-01  7.89504274e+00 -1.30331426e+00  5.08613587e+00\n",
      "  4.93565073e-01 -1.19142798e+00 -2.50179860e+00 -1.43778536e+01\n",
      "  6.08176328e+00  3.73453195e+00 -3.03853800e+00 -3.04703357e+00\n",
      "  3.16328023e+00  3.50660124e-01  1.13068094e-01 -4.63728218e-01\n",
      " -2.91728484e-02  1.26369635e-01 -1.49412251e-01  5.22154647e-02\n",
      " -5.55057248e-01  5.55057248e-01  5.46818093e-02 -1.94039149e-01\n",
      "  1.15837945e-01 -7.27507759e-01  8.63998151e-01  1.70411137e-01\n",
      " -2.83382135e-01]\n",
      "Intercept: -45.87387097640755\n",
      "R^2 Score: 0.0340530473031303\n"
     ]
    }
   ],
   "source": [
    "# Linear regression model\n",
    "\n",
    "# Separate the input features (X) and the target variable (y)\n",
    "X = df_encoded\n",
    "\n",
    "y = flights_df_sample['arr_delay']\n",
    "\n",
    "# Split the data into training and testing sets\n",
    "X_train, X_test, y_train, y_test = train_test_split(X, y, test_size=0.2, random_state=42)\n",
    "\n",
    "# Create a linear regression model\n",
    "model = LinearRegression()\n",
    "\n",
    "# Train the model using the training data\n",
    "model.fit(X_train, y_train)\n",
    "\n",
    "# Make predictions on the testing data\n",
    "y_pred = model.predict(X_test)\n",
    "\n",
    "# Evaluate the model\n",
    "score = model.score(X_test, y_test)\n",
    "\n",
    "# Print the coefficient and intercept of the linear regression model\n",
    "print('Coefficients:', model.coef_)\n",
    "print('Intercept:', model.intercept_)\n",
    "print('R^2 Score:', score)"
   ]
  },
  {
   "cell_type": "code",
   "execution_count": 30,
   "id": "81be98c9-c93b-4283-ac59-521d4f2b5484",
   "metadata": {},
   "outputs": [],
   "source": [
    "# Separate numeric columns and encoded columns\n",
    "\n",
    "encoded_columns = df_encoded.drop(columns=numerical_columns)"
   ]
  },
  {
   "cell_type": "code",
   "execution_count": 31,
   "id": "f2cf16a5-6dfa-4041-b6b1-97cf4b8f5e86",
   "metadata": {},
   "outputs": [],
   "source": [
    "# Scale the numeric columns\n",
    "scaler = StandardScaler()\n",
    "scaled_numeric_data = scaler.fit_transform(df_encoded[numerical_columns])\n",
    "\n",
    "# Create a DataFrame for the scaled numeric data\n",
    "df_scaled_numeric = pd.DataFrame(scaled_numeric_data, columns=numerical_columns)\n",
    "\n",
    "# Rejoin the scaled numeric data with the encoded columns\n",
    "df_scaled_encoded = pd.concat([df_scaled_numeric, encoded_columns], axis=1)"
   ]
  },
  {
   "cell_type": "code",
   "execution_count": 32,
   "id": "a86fbd08-782f-4070-9246-bad9f9621a01",
   "metadata": {},
   "outputs": [
    {
     "name": "stdout",
     "output_type": "stream",
     "text": [
      "Coefficients: [ 2.15682776e+01 -2.14797221e+01  3.42159222e+12 -1.40156357e+12\n",
      "  1.69336855e+12  2.32580922e+00  5.66619776e+00  3.10153368e+00\n",
      "  2.91663640e+12  1.05727443e+13 -1.97316567e+12 -1.58101221e+13\n",
      "  1.30753364e+13  1.57291519e+13  9.65697885e+12  1.40582147e+13\n",
      "  9.81101858e+12  1.17534931e+13  1.75358828e+13  1.32466610e+13\n",
      "  1.11603437e+13  1.33698482e+13  1.52042947e+13 -5.90315639e+12\n",
      "  2.39649775e+13  6.51835489e+13 -1.16451534e+12  2.02223908e+13\n",
      "  4.76161215e+13  9.37223002e+13  8.44851132e+13  8.72931308e+13\n",
      " -9.54606930e+12 -2.54362425e+12 -2.54427610e+12  3.65262661e+13\n",
      "  2.15154199e+12  2.15154199e+12  2.15154199e+12  2.15154199e+12\n",
      "  2.15154199e+12  2.15154199e+12  2.15154199e+12  2.15154199e+12\n",
      "  2.15154199e+12  2.15154199e+12  2.15154199e+12  2.15154199e+12\n",
      "  2.15154199e+12  2.15154199e+12  2.15154199e+12  2.15154199e+12\n",
      "  2.15154199e+12  2.15154199e+12  2.15154199e+12  2.15154199e+12\n",
      "  2.15154199e+12  2.15154199e+12  2.15154199e+12  2.15154199e+12\n",
      "  1.00515677e+13  1.67930973e+13  8.07079454e+12 -2.33687114e+12\n",
      "  4.49459245e+12  2.26888058e+12 -8.17918959e+12 -1.25823751e+13\n",
      " -1.38533444e+13 -1.40282981e+13 -1.40219274e+13 -1.38238514e+13\n",
      " -1.36929793e+13 -1.35332373e+13 -1.31282686e+13 -1.30431788e+13\n",
      " -1.24384835e+13 -1.16167559e+13 -1.13951537e+13 -1.10093099e+13\n",
      " -1.05458698e+13 -1.05572485e+13 -9.92696560e+12 -7.40202538e+12\n",
      "  9.80617266e+12  1.87115800e+12  1.49153549e+12  5.13555557e+12\n",
      "  4.73889501e+12  8.30726772e+10  1.48329510e+12 -3.48677978e+10\n",
      "  1.46839394e+12  5.59666864e+12  1.01079426e+13  1.09492134e+12\n",
      "  7.75699488e+12 -1.45886402e+12  8.55630740e+11 -5.55077299e+11\n",
      " -8.05246664e+11  2.41507596e+12 -1.46701786e+12  4.03633992e+12\n",
      " -4.22632649e+12  2.58479406e+12  3.92396431e+12  3.07376728e+12\n",
      " -3.55942505e+10  3.69035982e+12  1.57295210e+12 -1.16259894e+12\n",
      "  3.09004301e+12  4.67163238e+12 -6.51661216e+12  3.44068825e+12\n",
      "  4.79578235e+12 -9.99427238e+11  6.64080359e+11  3.12834506e+12\n",
      "  6.53717505e+12  2.06706953e+12 -2.52661609e+11  1.70302757e+12\n",
      "  1.81356810e+12 -4.13889933e+12  1.85111844e+12  5.97199226e+12\n",
      "  2.10049943e+12  6.80273873e+12 -3.65727667e+11  6.82903033e+12\n",
      " -6.12719348e+12  6.23748768e+12  1.35402114e+12 -4.48896015e+12\n",
      " -3.81885529e+12 -2.71718439e+13 -2.71718439e+13 -2.71718439e+13\n",
      "  5.91768705e+13  5.91768705e+13  5.91768705e+13  5.91768705e+13\n",
      "  1.30001025e+12  1.30001025e+12 -1.65799223e+13 -1.64287452e+13\n",
      "  1.45738413e+13 -6.17972615e+12 -1.63894629e+13 -8.04586750e+11\n",
      "  1.40669214e+12]\n",
      "Intercept: 158102128684154.16\n",
      "R^2 Score: 0.03404609413965787\n"
     ]
    }
   ],
   "source": [
    "# Linear regression model \n",
    "\n",
    "# Separate the input features (X) and the target variable (y)\n",
    "X = df_scaled_encoded\n",
    "\n",
    "y = flights_df_sample['arr_delay']\n",
    "\n",
    "# Split the data into training and testing sets\n",
    "X_train, X_test, y_train, y_test = train_test_split(X, y, test_size=0.2, random_state=42)\n",
    "\n",
    "# Create a linear regression model\n",
    "model = LinearRegression()\n",
    "\n",
    "# Train the model using the training data\n",
    "model.fit(X_train, y_train)\n",
    "\n",
    "# Make predictions on the testing data\n",
    "y_pred = model.predict(X_test)\n",
    "\n",
    "# Evaluate the model\n",
    "score = model.score(X_test, y_test)\n",
    "\n",
    "# Print the coefficient and intercept of the linear regression model\n",
    "print('Coefficients:', model.coef_)\n",
    "print('Intercept:', model.intercept_)\n",
    "print('R^2 Score:', score)"
   ]
  },
  {
   "cell_type": "code",
   "execution_count": 33,
   "id": "e51abeaa-5931-4e9f-858a-f461eb7d987e",
   "metadata": {},
   "outputs": [],
   "source": [
    "# We can see that with all negative values turned to zero in the flights_df our model\n",
    "# for regression is not performing as well. This may be due to imbalanced data with many zero values"
   ]
  },
  {
   "cell_type": "code",
   "execution_count": 34,
   "id": "32425ef3-ea58-49bb-ac49-ba6f4dc5ee24",
   "metadata": {},
   "outputs": [],
   "source": [
    "y = flights_df_sample['arr_delay'].apply(lambda x: 1 if x > 0 else 0)\n"
   ]
  },
  {
   "cell_type": "code",
   "execution_count": 35,
   "id": "2ff5ebaa-47b0-411d-97b7-4c4b1550b848",
   "metadata": {},
   "outputs": [],
   "source": [
    "X = encoded_columns"
   ]
  },
  {
   "cell_type": "code",
   "execution_count": 36,
   "id": "cdc6d6c9-323e-4a8b-8618-05fe80409c7b",
   "metadata": {},
   "outputs": [
    {
     "data": {
      "text/plain": [
       "(155904, 153)"
      ]
     },
     "execution_count": 36,
     "metadata": {},
     "output_type": "execute_result"
    }
   ],
   "source": [
    "df_scaled_encoded.shape"
   ]
  },
  {
   "cell_type": "code",
   "execution_count": 37,
   "id": "62c5ef23-25d8-497a-be75-d93486f3d17e",
   "metadata": {},
   "outputs": [
    {
     "name": "stdout",
     "output_type": "stream",
     "text": [
      "Binary Regression Accuracy: 0.3512674466338259\n",
      "Regression Mean Squared Error: 319.12093503974\n",
      "Combined Mean Squared Error: 319.12093503974\n"
     ]
    }
   ],
   "source": [
    "from sklearn.ensemble import RandomForestRegressor\n",
    "from sklearn.metrics import accuracy_score, mean_squared_error\n",
    "from sklearn.ensemble import RandomForestClassifier, RandomForestRegressor\n",
    "from sklearn.metrics import accuracy_score, mean_squared_error\n",
    "\n",
    "from sklearn.ensemble import RandomForestRegressor\n",
    "from sklearn.metrics import accuracy_score, mean_squared_error\n",
    "from sklearn.model_selection import train_test_split\n",
    "import numpy as np\n",
    "\n",
    "X = df_scaled_encoded\n",
    "y = flights_df_sample['arr_delay']\n",
    "\n",
    "# Step 1: Use a binary regressor to predict whether arr_delay is 0 or non-zero\n",
    "binary_regressor = RandomForestRegressor()\n",
    "binary_regressor.fit(X, (y > 0).astype(int))\n",
    "binary_predictions = binary_regressor.predict(X)\n",
    "\n",
    "# Step 2: Filter instances predicted as non-zero\n",
    "non_zero_indices = np.where(binary_predictions > 0)[0]\n",
    "X_regression = X.iloc[non_zero_indices]\n",
    "y_regression = y.iloc[non_zero_indices]\n",
    "\n",
    "# Step 3: Train a regression model\n",
    "regression_model = RandomForestRegressor()\n",
    "regression_model.fit(X_regression, y_regression)\n",
    "regression_predictions = regression_model.predict(X_regression)\n",
    "\n",
    "# Step 4: Combine binary and regression predictions\n",
    "combined_predictions = np.zeros_like(binary_predictions)\n",
    "combined_predictions[non_zero_indices] = regression_predictions\n",
    "\n",
    "# Step 5: Evaluate the performance\n",
    "binary_accuracy = accuracy_score((y > 0).astype(int), (binary_predictions > 0).astype(int))\n",
    "regression_mse = mean_squared_error(y_regression, regression_predictions)\n",
    "combined_mse = mean_squared_error(y.iloc[non_zero_indices], combined_predictions[non_zero_indices])\n",
    "\n",
    "print('Binary Regression Accuracy:', binary_accuracy)\n",
    "print('Regression Mean Squared Error:', regression_mse)\n",
    "print('Combined Mean Squared Error:', combined_mse)"
   ]
  },
  {
   "cell_type": "code",
   "execution_count": 38,
   "id": "01f4a56a-1429-4058-9e57-7eeb76f9e190",
   "metadata": {},
   "outputs": [],
   "source": [
    "# Create a new column in the DataFrame for predicted values\n",
    "flights_df_sample['predicted_delay'] = 0  # Initialize with 0 values\n",
    "\n",
    "# Assign the predicted values from the combined model to the new column\n",
    "flights_df_sample.loc[binary_predictions == 1, 'predicted_delay'] = combined_predictions[binary_predictions == 1]"
   ]
  },
  {
   "cell_type": "code",
   "execution_count": 39,
   "id": "0f395c6a-a0fb-4204-9161-396dd29fc6e4",
   "metadata": {},
   "outputs": [
    {
     "name": "stdout",
     "output_type": "stream",
     "text": [
      "        predicted_delay  arr_delay\n",
      "40476             82.49       98.0\n",
      "62633             66.44       81.0\n",
      "127565            89.10      126.0\n",
      "153672            26.51       26.0\n"
     ]
    }
   ],
   "source": [
    "non_zero_predictions = flights_df_sample[flights_df_sample['predicted_delay'] != 0][['predicted_delay', 'arr_delay']]\n",
    "print(non_zero_predictions.head(20))"
   ]
  },
  {
   "cell_type": "code",
   "execution_count": 40,
   "id": "2d886ab5-5e98-453f-9686-7fe7030751de",
   "metadata": {},
   "outputs": [
    {
     "name": "stdout",
     "output_type": "stream",
     "text": [
      "Number of values where predicted_delays = 0: 155900\n"
     ]
    }
   ],
   "source": [
    "num_zero_delays = len(flights_df_sample[flights_df_sample['predicted_delay'] == 0])\n",
    "print(\"Number of values where predicted_delays = 0:\", num_zero_delays)"
   ]
  },
  {
   "cell_type": "code",
   "execution_count": 41,
   "id": "ec6f7a9a-80ae-41ac-ae58-df2712339c6a",
   "metadata": {},
   "outputs": [
    {
     "name": "stdout",
     "output_type": "stream",
     "text": [
      "Number of values where predicted_delays = 0: 101332\n"
     ]
    }
   ],
   "source": [
    "num_zero_delays = len(flights_df_sample[flights_df_sample['arr_delay'] == 0])\n",
    "print(\"Number of values where predicted_delays = 0:\", num_zero_delays)"
   ]
  },
  {
   "cell_type": "code",
   "execution_count": null,
   "id": "8fd75a16-d52f-4a09-82c6-b570d80c51bc",
   "metadata": {},
   "outputs": [],
   "source": [
    "# The model has .3 R^2 because it is mostly predicting zeros and has only made a prediciton above zero 4 times"
   ]
  }
 ],
 "metadata": {
  "kernelspec": {
   "display_name": "Python 3 (ipykernel)",
   "language": "python",
   "name": "python3"
  },
  "language_info": {
   "codemirror_mode": {
    "name": "ipython",
    "version": 3
   },
   "file_extension": ".py",
   "mimetype": "text/x-python",
   "name": "python",
   "nbconvert_exporter": "python",
   "pygments_lexer": "ipython3",
   "version": "3.10.9"
  }
 },
 "nbformat": 4,
 "nbformat_minor": 5
}
